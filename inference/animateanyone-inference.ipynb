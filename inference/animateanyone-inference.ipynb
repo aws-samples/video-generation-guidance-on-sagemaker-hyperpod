{
 "cells": [
  {
   "cell_type": "markdown",
   "id": "d942e395-2ebf-400d-8c0d-aaed37da9672",
   "metadata": {},
   "source": [
    "## Deploy Video Generation Endpoint on SageMaker\n",
    "\n",
    "In this notebook, we will deploy an asynchronous [Animate Anyone](https://github.com/MooreThreads/Moore-AnimateAnyone) endpoint with SageMaker.\n",
    "\n",
    "### Setup"
   ]
  },
  {
   "cell_type": "code",
   "execution_count": 1,
   "id": "cce6d006-3e03-4773-810f-1e593c757b57",
   "metadata": {
    "tags": []
   },
   "outputs": [
    {
     "name": "stdout",
     "output_type": "stream",
     "text": [
      "\u001b[31mERROR: pip's dependency resolver does not currently take into account all the packages that are installed. This behaviour is the source of the following dependency conflicts.\n",
      "awscli 1.33.24 requires botocore==1.34.142, but you have botocore 1.34.146 which is incompatible.\u001b[0m\u001b[31m\n",
      "\u001b[0m"
     ]
    }
   ],
   "source": [
    "!pip install sagemaker boto3 huggingface_hub transformers torch --upgrade --quiet"
   ]
  },
  {
   "cell_type": "code",
   "execution_count": 2,
   "id": "6f1ecae5-822a-487c-a58f-3a6f364eb508",
   "metadata": {
    "tags": []
   },
   "outputs": [
    {
     "name": "stdout",
     "output_type": "stream",
     "text": [
      "sagemaker.config INFO - Not applying SDK defaults from location: /etc/xdg/sagemaker/config.yaml\n",
      "sagemaker.config INFO - Not applying SDK defaults from location: /home/ec2-user/.config/sagemaker/config.yaml\n"
     ]
    }
   ],
   "source": [
    "import sagemaker\n",
    "import jinja2\n",
    "from sagemaker import image_uris\n",
    "import boto3\n",
    "import os\n",
    "import time\n",
    "import json\n",
    "from pathlib import Path\n",
    "import json\n",
    "import base64"
   ]
  },
  {
   "cell_type": "code",
   "execution_count": 3,
   "id": "bdfc4d04-25f9-4c10-aadf-a76b57ba8cbe",
   "metadata": {
    "tags": []
   },
   "outputs": [],
   "source": [
    "role = sagemaker.get_execution_role()  # execution role for the endpoint\n",
    "sess = sagemaker.session.Session()  # sagemaker session for interacting with different AWS APIs"
   ]
  },
  {
   "cell_type": "code",
   "execution_count": null,
   "id": "f55e63f5-ab27-4eb1-81ca-2e166483f1a2",
   "metadata": {
    "tags": []
   },
   "outputs": [],
   "source": [
    "model_bucket = sess.default_bucket()  # bucket to house artifacts\n",
    "s3_code_prefix = \"animateanyone-serving\"  # folder within bucket where code artifact will go\n",
    "s3_model_prefix = \"model_animateanyone_inference\"  # folder within bucket where code artifact will go\n",
    "region = sess._region_name\n",
    "account_id = sess.account_id()\n",
    "\n",
    "s3_client = boto3.client(\"s3\")\n",
    "sm_client = boto3.client(\"sagemaker\")\n",
    "smr_client = boto3.client(\"sagemaker-runtime\")\n",
    "\n",
    "jinja_env = jinja2.Environment()\n",
    "\n",
    "# define a variable to contain the s3url of the location that has the model\n",
    "pretrained_model_location = f\"s3://{model_bucket}/{s3_model_prefix}/\"\n",
    "print(f\"Pretrained model will be uploaded to ---- > {pretrained_model_location}\")"
   ]
  },
  {
   "cell_type": "markdown",
   "id": "fb7499bb-2944-4bdc-95a3-fd3ec3dee465",
   "metadata": {},
   "source": [
    "## Prepare inference script and container image"
   ]
  },
  {
   "cell_type": "code",
   "execution_count": 5,
   "id": "47ee875d-91d0-4ab8-901f-0a0bce95652b",
   "metadata": {
    "tags": []
   },
   "outputs": [
    {
     "data": {
      "text/plain": [
       "'763104351884.dkr.ecr.us-east-1.amazonaws.com/djl-inference:0.27.0-deepspeed0.12.6-cu121'"
      ]
     },
     "execution_count": 5,
     "metadata": {},
     "output_type": "execute_result"
    }
   ],
   "source": [
    "inference_image_uri = image_uris.retrieve(\n",
    "    framework=\"djl-deepspeed\", region=sess.boto_session.region_name, version=\"0.27.0\"\n",
    ")\n",
    "inference_image_uri"
   ]
  },
  {
   "cell_type": "code",
   "execution_count": 6,
   "id": "6b62b4a5-6ac1-4478-921f-5094253b19ac",
   "metadata": {
    "tags": []
   },
   "outputs": [
    {
     "name": "stdout",
     "output_type": "stream",
     "text": [
      "Requirement already satisfied: pyyaml in /home/ec2-user/anaconda3/envs/pytorch_p310/lib/python3.10/site-packages (6.0.1)\n"
     ]
    }
   ],
   "source": [
    "!pip install pyyaml"
   ]
  },
  {
   "cell_type": "markdown",
   "id": "7be614b7-c972-493b-b103-23b8aba42b37",
   "metadata": {},
   "source": [
    "We use the default inference configuration from [Moore-AnimateAnyone](https://github.com/MooreThreads/Moore-AnimateAnyone) as the inference configuration in the endpoint, you can modify it based on your own requirements."
   ]
  },
  {
   "cell_type": "code",
   "execution_count": 7,
   "id": "1cab7612-36df-44a9-9bc0-a2b90e3e9ea1",
   "metadata": {
    "tags": []
   },
   "outputs": [
    {
     "data": {
      "text/plain": [
       "{'unet_additional_kwargs': {'use_inflated_groupnorm': True,\n",
       "  'unet_use_cross_frame_attention': False,\n",
       "  'unet_use_temporal_attention': False,\n",
       "  'use_motion_module': True,\n",
       "  'motion_module_resolutions': [1, 2, 4, 8],\n",
       "  'motion_module_mid_block': True,\n",
       "  'motion_module_decoder_only': False,\n",
       "  'motion_module_type': 'Vanilla',\n",
       "  'motion_module_kwargs': {'num_attention_heads': 8,\n",
       "   'num_transformer_block': 1,\n",
       "   'attention_block_types': ['Temporal_Self', 'Temporal_Self'],\n",
       "   'temporal_position_encoding': True,\n",
       "   'temporal_position_encoding_max_len': 32,\n",
       "   'temporal_attention_dim_div': 1}},\n",
       " 'noise_scheduler_kwargs': {'beta_start': 0.00085,\n",
       "  'beta_end': 0.012,\n",
       "  'beta_schedule': 'linear',\n",
       "  'clip_sample': False,\n",
       "  'steps_offset': 1,\n",
       "  'prediction_type': 'v_prediction',\n",
       "  'rescale_betas_zero_snr': True,\n",
       "  'timestep_spacing': 'trailing'},\n",
       " 'sampler': 'DDIM'}"
      ]
     },
     "execution_count": 7,
     "metadata": {},
     "output_type": "execute_result"
    }
   ],
   "source": [
    "import yaml\n",
    "\n",
    "def read_yaml(file_path):\n",
    "    with open(file_path, 'r') as file:\n",
    "        try:\n",
    "            yaml_data = yaml.safe_load(file)\n",
    "            return yaml_data\n",
    "        except yaml.YAMLError as e:\n",
    "            print(f\"Error reading YAML file: {e}\")\n",
    "            return None\n",
    "\n",
    "# We use the default configuration for inference\n",
    "infer_config_dict = read_yaml('./Moore-AnimateAnyone/configs/inference/inference_v2.yaml')\n",
    "infer_config_dict"
   ]
  },
  {
   "cell_type": "code",
   "execution_count": 8,
   "id": "ab3a2bb3-93d3-4851-a473-ecf673e28822",
   "metadata": {
    "tags": []
   },
   "outputs": [],
   "source": [
    "deployment_config = {\n",
    "    \"model_name\": \"animateanyone\",\n",
    "    \"pretrained_base_model_path\": \"stable-diffusion-v1-5\",\n",
    "    \"pretrained_vae_path\": \"sd-vae-ft-mse\",\n",
    "    \"image_encoder_path\": \"image_encoder\",\n",
    "    \"denoising_unet_path\": \"animateanyone/denoising_unet.pth\",\n",
    "    \"reference_unet_path\": \"animateanyone/reference_unet.pth\",\n",
    "    \"pose_guider_path\": \"animateanyone/pose_guider.pth\",\n",
    "    \"motion_module_path\": \"animateanyone/motion_module.pth\",\n",
    "    \"weight_dtype\": \"fp16\",\n",
    "    \"infer_config\": infer_config_dict\n",
    "}\n",
    "\n",
    "with open(f\"{s3_code_prefix}/deployment_config.json\",'w') as file:\n",
    "    json.dump(deployment_config, file)"
   ]
  },
  {
   "cell_type": "markdown",
   "id": "bb7102d7-58e5-449e-8dc3-eb1bf76da79a",
   "metadata": {},
   "source": [
    "### Upload the model artifacts on Amazon S3\n",
    "\n",
    "we use the pretrained model to create an endpoint, alternatively you can use the fine tuned model for an endpoint."
   ]
  },
  {
   "cell_type": "code",
   "execution_count": null,
   "id": "5ec0aeb4-9e76-4b4b-ab69-f3aacecb32b3",
   "metadata": {
    "tags": []
   },
   "outputs": [],
   "source": [
    "# upload the model artifacts to s3\n",
    "model_download_path = \"pretrained_weights\"\n",
    "\n",
    "model_artifact = sess.upload_data(path=model_download_path, key_prefix=s3_model_prefix)\n",
    "print(f\"Model uploaded to --- > {model_artifact}\")\n",
    "print(f\"We will set option.s3url={model_artifact}\")"
   ]
  },
  {
   "cell_type": "code",
   "execution_count": 10,
   "id": "001f38dc-1d75-4167-a4f9-4518024c7bef",
   "metadata": {
    "tags": []
   },
   "outputs": [
    {
     "name": "stdout",
     "output_type": "stream",
     "text": [
      "Overwriting animateanyone-serving/serving.properties\n"
     ]
    }
   ],
   "source": [
    "%%writefile animateanyone-serving/serving.properties\n",
    "engine = Python\n",
    "option.tensor_parallel_degree = 1\n",
    "option.model_id = {{s3url}}\n",
    "option.prediction_timeout=1200"
   ]
  },
  {
   "cell_type": "code",
   "execution_count": 11,
   "id": "19eabd92-12d6-4f05-90fe-219c290e0b05",
   "metadata": {
    "tags": []
   },
   "outputs": [
    {
     "name": "stdout",
     "output_type": "stream",
     "text": [
      "     1\t\u001b[36mengine\u001b[39;49;00m\u001b[37m \u001b[39;49;00m=\u001b[37m \u001b[39;49;00m\u001b[33mPython\u001b[39;49;00m\u001b[37m\u001b[39;49;00m\n",
      "     2\t\u001b[36moption.tensor_parallel_degree\u001b[39;49;00m\u001b[37m \u001b[39;49;00m=\u001b[37m \u001b[39;49;00m\u001b[33m1\u001b[39;49;00m\u001b[37m\u001b[39;49;00m\n",
      "     3\t\u001b[36moption.model_id\u001b[39;49;00m\u001b[37m \u001b[39;49;00m=\u001b[37m \u001b[39;49;00m\u001b[33ms3://sagemaker-us-east-1-822507008821/model_animateanyone_inference/\u001b[39;49;00m\u001b[37m\u001b[39;49;00m\n",
      "     4\t\u001b[36moption.prediction_timeout\u001b[39;49;00m=\u001b[33m1200\u001b[39;49;00m\u001b[37m\u001b[39;49;00m\n"
     ]
    }
   ],
   "source": [
    "# we plug in the appropriate model location into our `serving.properties` file based on the region in which this notebook is running\n",
    "template = jinja_env.from_string(Path(\"animateanyone-serving/serving.properties\").open().read())\n",
    "Path(\"animateanyone-serving/serving.properties\").open(\"w\").write(\n",
    "    template.render(s3url=pretrained_model_location)\n",
    ")\n",
    "!pygmentize animateanyone-serving/serving.properties | cat -n"
   ]
  },
  {
   "cell_type": "markdown",
   "id": "b31c66dd-ee1d-4cc5-961b-0b9b063c4f22",
   "metadata": {},
   "source": [
    "## Prepare the model tarball file and upload to S3\n",
    "\n",
    "Note that if you need to clone [Moore-AnimateAnyone](https://github.com/MooreThreads/Moore-AnimateAnyone) if it is not in the current directory."
   ]
  },
  {
   "cell_type": "code",
   "execution_count": 12,
   "id": "eeae8bc2-f3c9-4174-8ebe-3230efaa72a1",
   "metadata": {
    "scrolled": true,
    "tags": []
   },
   "outputs": [
    {
     "name": "stdout",
     "output_type": "stream",
     "text": [
      "animateanyone-serving/\n",
      "animateanyone-serving/requirements.txt\n",
      "animateanyone-serving/deployment_config.json\n",
      "animateanyone-serving/serving.properties\n",
      "animateanyone-serving/src/\n",
      "animateanyone-serving/src/__pycache__/\n",
      "animateanyone-serving/src/__pycache__/__init__.cpython-310.pyc\n",
      "animateanyone-serving/src/utils/\n",
      "animateanyone-serving/src/utils/__pycache__/\n",
      "animateanyone-serving/src/utils/__pycache__/util.cpython-310.pyc\n",
      "animateanyone-serving/src/utils/.ipynb_checkpoints/\n",
      "animateanyone-serving/src/utils/.ipynb_checkpoints/util-checkpoint.py\n",
      "animateanyone-serving/src/utils/util.py\n",
      "animateanyone-serving/src/pipelines/\n",
      "animateanyone-serving/src/pipelines/__pycache__/\n",
      "animateanyone-serving/src/pipelines/__pycache__/pipeline_pose2vid_long.cpython-310.pyc\n",
      "animateanyone-serving/src/pipelines/__pycache__/context.cpython-310.pyc\n",
      "animateanyone-serving/src/pipelines/__pycache__/__init__.cpython-310.pyc\n",
      "animateanyone-serving/src/pipelines/__pycache__/utils.cpython-310.pyc\n",
      "animateanyone-serving/src/pipelines/.ipynb_checkpoints/\n",
      "animateanyone-serving/src/pipelines/.ipynb_checkpoints/pipeline_pose2vid-checkpoint.py\n",
      "animateanyone-serving/src/pipelines/.ipynb_checkpoints/pipeline_pose2vid_long-checkpoint.py\n",
      "animateanyone-serving/src/pipelines/pipeline_pose2vid.py\n",
      "animateanyone-serving/src/pipelines/utils.py\n",
      "animateanyone-serving/src/pipelines/pipeline_lmks2vid_long.py\n",
      "animateanyone-serving/src/pipelines/pipeline_pose2vid_long.py\n",
      "animateanyone-serving/src/pipelines/pipeline_pose2img.py\n",
      "animateanyone-serving/src/pipelines/context.py\n",
      "animateanyone-serving/src/pipelines/__init__.py\n",
      "animateanyone-serving/src/dataset/\n",
      "animateanyone-serving/src/dataset/dance_video.py\n",
      "animateanyone-serving/src/dataset/dance_image.py\n",
      "animateanyone-serving/src/dwpose/\n",
      "animateanyone-serving/src/dwpose/onnxdet.py\n",
      "animateanyone-serving/src/dwpose/onnxpose.py\n",
      "animateanyone-serving/src/dwpose/util.py\n",
      "animateanyone-serving/src/dwpose/wholebody.py\n",
      "animateanyone-serving/src/dwpose/__init__.py\n",
      "animateanyone-serving/src/src/\n",
      "animateanyone-serving/src/src/__pycache__/\n",
      "animateanyone-serving/src/src/__pycache__/__init__.cpython-310.pyc\n",
      "animateanyone-serving/src/src/utils/\n",
      "animateanyone-serving/src/src/utils/__pycache__/\n",
      "animateanyone-serving/src/src/utils/__pycache__/util.cpython-310.pyc\n",
      "animateanyone-serving/src/src/utils/.ipynb_checkpoints/\n",
      "animateanyone-serving/src/src/utils/.ipynb_checkpoints/util-checkpoint.py\n",
      "animateanyone-serving/src/src/utils/util.py\n",
      "animateanyone-serving/src/src/pipelines/\n",
      "animateanyone-serving/src/src/pipelines/__pycache__/\n",
      "animateanyone-serving/src/src/pipelines/__pycache__/pipeline_pose2vid_long.cpython-310.pyc\n",
      "animateanyone-serving/src/src/pipelines/__pycache__/context.cpython-310.pyc\n",
      "animateanyone-serving/src/src/pipelines/__pycache__/__init__.cpython-310.pyc\n",
      "animateanyone-serving/src/src/pipelines/__pycache__/utils.cpython-310.pyc\n",
      "animateanyone-serving/src/src/pipelines/.ipynb_checkpoints/\n",
      "animateanyone-serving/src/src/pipelines/.ipynb_checkpoints/utils-checkpoint.py\n",
      "animateanyone-serving/src/src/pipelines/.ipynb_checkpoints/pipeline_pose2vid_long-checkpoint.py\n",
      "animateanyone-serving/src/src/pipelines/pipeline_pose2vid.py\n",
      "animateanyone-serving/src/src/pipelines/utils.py\n",
      "animateanyone-serving/src/src/pipelines/pipeline_lmks2vid_long.py\n",
      "animateanyone-serving/src/src/pipelines/pipeline_pose2vid_long.py\n",
      "animateanyone-serving/src/src/pipelines/pipeline_pose2img.py\n",
      "animateanyone-serving/src/src/pipelines/context.py\n",
      "animateanyone-serving/src/src/pipelines/__init__.py\n",
      "animateanyone-serving/src/src/dataset/\n",
      "animateanyone-serving/src/src/dataset/dance_video.py\n",
      "animateanyone-serving/src/src/dataset/dance_image.py\n",
      "animateanyone-serving/src/src/dwpose/\n",
      "animateanyone-serving/src/src/dwpose/onnxdet.py\n",
      "animateanyone-serving/src/src/dwpose/onnxpose.py\n",
      "animateanyone-serving/src/src/dwpose/util.py\n",
      "animateanyone-serving/src/src/dwpose/wholebody.py\n",
      "animateanyone-serving/src/src/dwpose/__init__.py\n",
      "animateanyone-serving/src/src/models/\n",
      "animateanyone-serving/src/src/models/attention.py\n",
      "animateanyone-serving/src/src/models/pose_guider.py\n",
      "animateanyone-serving/src/src/models/__pycache__/\n",
      "animateanyone-serving/src/src/models/__pycache__/attention.cpython-310.pyc\n",
      "animateanyone-serving/src/src/models/__pycache__/unet_2d_blocks.cpython-310.pyc\n",
      "animateanyone-serving/src/src/models/__pycache__/pose_guider.cpython-310.pyc\n",
      "animateanyone-serving/src/src/models/__pycache__/unet_3d.cpython-310.pyc\n",
      "animateanyone-serving/src/src/models/__pycache__/unet_3d_blocks.cpython-310.pyc\n",
      "animateanyone-serving/src/src/models/__pycache__/unet_2d_condition.cpython-310.pyc\n",
      "animateanyone-serving/src/src/models/__pycache__/mutual_self_attention.cpython-310.pyc\n",
      "animateanyone-serving/src/src/models/__pycache__/motion_module.cpython-310.pyc\n",
      "animateanyone-serving/src/src/models/__pycache__/transformer_3d.cpython-310.pyc\n",
      "animateanyone-serving/src/src/models/__pycache__/resnet.cpython-310.pyc\n",
      "animateanyone-serving/src/src/models/__pycache__/transformer_2d.cpython-310.pyc\n",
      "animateanyone-serving/src/src/models/.ipynb_checkpoints/\n",
      "animateanyone-serving/src/src/models/.ipynb_checkpoints/pose_guider-checkpoint.py\n",
      "animateanyone-serving/src/src/models/motion_module.py\n",
      "animateanyone-serving/src/src/models/unet_3d_blocks.py\n",
      "animateanyone-serving/src/src/models/transformer_2d.py\n",
      "animateanyone-serving/src/src/models/unet_2d_condition.py\n",
      "animateanyone-serving/src/src/models/unet_3d.py\n",
      "animateanyone-serving/src/src/models/unet_2d_blocks.py\n",
      "animateanyone-serving/src/src/models/mutual_self_attention.py\n",
      "animateanyone-serving/src/src/models/resnet.py\n",
      "animateanyone-serving/src/src/models/transformer_3d.py\n",
      "animateanyone-serving/src/src/__init__.py\n",
      "animateanyone-serving/src/models/\n",
      "animateanyone-serving/src/models/attention.py\n",
      "animateanyone-serving/src/models/pose_guider.py\n",
      "animateanyone-serving/src/models/__pycache__/\n",
      "animateanyone-serving/src/models/__pycache__/attention.cpython-310.pyc\n",
      "animateanyone-serving/src/models/__pycache__/unet_2d_blocks.cpython-310.pyc\n",
      "animateanyone-serving/src/models/__pycache__/pose_guider.cpython-310.pyc\n",
      "animateanyone-serving/src/models/__pycache__/unet_3d.cpython-310.pyc\n",
      "animateanyone-serving/src/models/__pycache__/unet_3d_blocks.cpython-310.pyc\n",
      "animateanyone-serving/src/models/__pycache__/unet_2d_condition.cpython-310.pyc\n",
      "animateanyone-serving/src/models/__pycache__/mutual_self_attention.cpython-310.pyc\n",
      "animateanyone-serving/src/models/__pycache__/motion_module.cpython-310.pyc\n",
      "animateanyone-serving/src/models/__pycache__/transformer_3d.cpython-310.pyc\n",
      "animateanyone-serving/src/models/__pycache__/resnet.cpython-310.pyc\n",
      "animateanyone-serving/src/models/__pycache__/transformer_2d.cpython-310.pyc\n",
      "animateanyone-serving/src/models/.ipynb_checkpoints/\n",
      "animateanyone-serving/src/models/.ipynb_checkpoints/pose_guider-checkpoint.py\n",
      "animateanyone-serving/src/models/motion_module.py\n",
      "animateanyone-serving/src/models/unet_3d_blocks.py\n",
      "animateanyone-serving/src/models/transformer_2d.py\n",
      "animateanyone-serving/src/models/unet_2d_condition.py\n",
      "animateanyone-serving/src/models/unet_3d.py\n",
      "animateanyone-serving/src/models/unet_2d_blocks.py\n",
      "animateanyone-serving/src/models/mutual_self_attention.py\n",
      "animateanyone-serving/src/models/resnet.py\n",
      "animateanyone-serving/src/models/transformer_3d.py\n",
      "animateanyone-serving/src/__init__.py\n",
      "animateanyone-serving/model.py\n"
     ]
    }
   ],
   "source": [
    "%%sh\n",
    "rm -r animateanyone-serving/.ipynb_checkpoints\n",
    "find ./Moore-AnimateAnyone -type f -name \"*.pyc\" -delete\n",
    "cp -r Moore-AnimateAnyone/src animateanyone-serving/src\n",
    "tar czvf model.tar.gz animateanyone-serving/"
   ]
  },
  {
   "cell_type": "code",
   "execution_count": null,
   "id": "8ec0e818-1a0a-4d5a-b86e-f06d19eaa0e7",
   "metadata": {
    "tags": []
   },
   "outputs": [],
   "source": [
    "s3_code_artifact = sess.upload_data(\"model.tar.gz\", model_bucket, s3_code_prefix)\n",
    "print(f\"S3 Code or Model tar ball uploaded to --- > {s3_code_artifact}\")"
   ]
  },
  {
   "cell_type": "markdown",
   "id": "521fb573-b45c-4bbc-8f2e-0e46bff6f14a",
   "metadata": {},
   "source": [
    "## Deploy model as an asynchronous endpoint"
   ]
  },
  {
   "cell_type": "code",
   "execution_count": 15,
   "id": "304c8205-c549-4f09-abab-7525047fab39",
   "metadata": {
    "tags": []
   },
   "outputs": [],
   "source": [
    "from sagemaker.model import Model\n",
    "from sagemaker.utils import name_from_base\n",
    "\n",
    "#inference_image_uri = \"763104351884.dkr.ecr.us-east-1.amazonaws.com/pytorch-inference:2.3.0-gpu-py311-cu121-ubuntu20.04-sagemaker\"\n",
    "\n",
    "model_name = deployment_config[\"model_name\"]\n",
    "model = Model(\n",
    "    image_uri=inference_image_uri,\n",
    "    model_data=s3_code_artifact,\n",
    "    role=role,\n",
    "    name=model_name,\n",
    ")"
   ]
  },
  {
   "cell_type": "code",
   "execution_count": null,
   "id": "ba864987-62d7-4ab4-ba75-99ddc7b5691e",
   "metadata": {
    "tags": []
   },
   "outputs": [],
   "source": [
    "from datetime import datetime\n",
    "timestamp = datetime.now().strftime(\"%Y%m%d-%H%M%S\")\n",
    "\n",
    "async_endpoint_config_name = f\"Async-animateanyone-{timestamp}\"\n",
    "\n",
    "s3_output_path = f\"s3://{model_bucket}/{s3_code_prefix}/output/async\"\n",
    "\n",
    "sagemaker_session = sagemaker.Session()\n",
    "boto_session = sagemaker_session.boto_session\n",
    "sagemaker_client = boto_session.client('sagemaker')\n",
    "\n",
    "create_endpoint_config_response = sagemaker_client.create_endpoint_config(\n",
    "    EndpointConfigName=async_endpoint_config_name,\n",
    "    ProductionVariants=[\n",
    "        {\n",
    "            \"VariantName\": \"variant1\",\n",
    "            \"ModelName\": model_name,\n",
    "            \"InstanceType\": \"ml.g5.2xlarge\",\n",
    "            \"InitialInstanceCount\": 1\n",
    "        }\n",
    "    ],\n",
    "    AsyncInferenceConfig={\n",
    "        \"OutputConfig\": {\n",
    "            \"S3OutputPath\": s3_output_path,\n",
    "            #  Optionally specify Amazon SNS topics\n",
    "            #\"NotificationConfig\": {\n",
    "            #  \"SuccessTopic\": success_topic,\n",
    "            #  \"ErrorTopic\": error_topic,\n",
    "            #}\n",
    "        },\n",
    "        \"ClientConfig\": {\n",
    "            \"MaxConcurrentInvocationsPerInstance\": 10\n",
    "        }\n",
    "    }\n",
    ")\n",
    "print(f\"Created EndpointConfig: {create_endpoint_config_response['EndpointConfigArn']}\")"
   ]
  },
  {
   "cell_type": "code",
   "execution_count": 18,
   "id": "e3787483-001d-461b-813c-fe90100721ec",
   "metadata": {
    "tags": []
   },
   "outputs": [],
   "source": [
    "endpoint_name = f\"endpoint-{timestamp}\" + model_name\n",
    "\n",
    "create_endpoint_response = sagemaker_client.create_endpoint(\n",
    "    EndpointName=endpoint_name,\n",
    "    EndpointConfigName=async_endpoint_config_name\n",
    ")"
   ]
  },
  {
   "cell_type": "code",
   "execution_count": null,
   "id": "a95b4268-b640-4331-aba9-92e8558541d7",
   "metadata": {
    "tags": []
   },
   "outputs": [
    {
     "name": "stdout",
     "output_type": "stream",
     "text": [
      "Waiting for endpoint to create...\n"
     ]
    }
   ],
   "source": [
    "waiter = boto3.client('sagemaker').get_waiter('endpoint_in_service')\n",
    "print(\"Waiting for endpoint to create...\")\n",
    "waiter.wait(EndpointName=endpoint_name)"
   ]
  },
  {
   "cell_type": "code",
   "execution_count": 21,
   "id": "f14b5b86-7898-4977-8db7-2b5439f7333f",
   "metadata": {
    "tags": []
   },
   "outputs": [
    {
     "name": "stdout",
     "output_type": "stream",
     "text": [
      "Endpoint Status: InService\n"
     ]
    }
   ],
   "source": [
    "resp = sagemaker_client.describe_endpoint(EndpointName=endpoint_name)\n",
    "print(f\"Endpoint Status: {resp['EndpointStatus']}\")"
   ]
  },
  {
   "cell_type": "code",
   "execution_count": 33,
   "id": "beacef58-9f2f-4438-a0c2-476a97e43430",
   "metadata": {
    "tags": []
   },
   "outputs": [
    {
     "data": {
      "text/plain": [
       "'endpoint-20240723-072940animateanyone'"
      ]
     },
     "execution_count": 33,
     "metadata": {},
     "output_type": "execute_result"
    }
   ],
   "source": [
    "endpoint_name"
   ]
  },
  {
   "cell_type": "markdown",
   "id": "95337b69-a9d4-4f68-b327-fca232846978",
   "metadata": {},
   "source": [
    "### Set up autoscaling"
   ]
  },
  {
   "cell_type": "code",
   "execution_count": 24,
   "id": "5f33565f-6c71-4d48-89a7-7a13f788e67b",
   "metadata": {},
   "outputs": [],
   "source": [
    "client = boto3.client('application-autoscaling') # Common class representing Application Auto Scaling for SageMaker amongst other services\n",
    "\n",
    "resource_id='endpoint/' + endpoint_name + '/variant/' + 'variant1' # This is the format in which application autoscaling references the endpoint\n",
    "\n",
    "response = client.register_scalable_target(\n",
    "    ServiceNamespace='sagemaker', \n",
    "    ResourceId=resource_id,\n",
    "    ScalableDimension='sagemaker:variant:DesiredInstanceCount',\n",
    "    MinCapacity=0,  \n",
    "    MaxCapacity=5\n",
    ")\n",
    "\n",
    "response = client.put_scaling_policy(\n",
    "    PolicyName='Invocations-ScalingPolicy',\n",
    "    ServiceNamespace='sagemaker', # The namespace of the AWS service that provides the resource. \n",
    "    ResourceId=resource_id, # Endpoint name \n",
    "    ScalableDimension='sagemaker:variant:DesiredInstanceCount', # SageMaker supports only Instance Count\n",
    "    PolicyType='TargetTrackingScaling', # 'StepScaling'|'TargetTrackingScaling'\n",
    "    TargetTrackingScalingPolicyConfiguration={\n",
    "        'TargetValue': 1, # The target value for the metric. \n",
    "        'CustomizedMetricSpecification': {\n",
    "            'MetricName': 'SageMakerVariantInvocationsPerInstance',\n",
    "            'Namespace': 'AWS/SageMaker',\n",
    "            'Dimensions': [\n",
    "                {'Name': 'EndpointName', 'Value': endpoint_name }\n",
    "            ],\n",
    "            'Statistic': 'Average',\n",
    "        },\n",
    "        'ScaleInCooldown': 120, # The cooldown period helps you prevent your Auto Scaling group from launching or terminating \n",
    "                                # additional instances before the effects of previous activities are visible. \n",
    "                                # You can configure the length of time based on your instance startup time or other application needs.\n",
    "                                # ScaleInCooldown - The amount of time, in seconds, after a scale in activity completes before another scale in activity can start. \n",
    "        'ScaleOutCooldown': 120 # ScaleOutCooldown - The amount of time, in seconds, after a scale out activity completes before another scale out activity can start.\n",
    "    }\n",
    ")"
   ]
  },
  {
   "cell_type": "markdown",
   "id": "771cb1c6-cc2a-41a3-98c2-31c8a7ebddb9",
   "metadata": {},
   "source": [
    "## Async inference\n",
    "\n",
    "we use the sample data from `Moore-AnimateAnyone` for testing asynchronous endpoint."
   ]
  },
  {
   "cell_type": "code",
   "execution_count": null,
   "id": "070471fc-57c3-4993-8698-c7022f0600c0",
   "metadata": {
    "tags": []
   },
   "outputs": [],
   "source": [
    "pose_seq_path = \"./Moore-AnimateAnyone/configs/inference/pose_videos/anyone-video-1_kps.mp4\"\n",
    "ref_img_path = \"./Moore-AnimateAnyone/configs/inference/ref_images/anyone-1.png\"\n",
    "pose_s3_path = f\"s3://{model_bucket}/{s3_code_prefix}/inputs/anyone-video-1_kps.mp4\"\n",
    "ref_s3_path = f\"s3://{model_bucket}/{s3_code_prefix}/inputs/anyone-1.png\"\n",
    "input_async_s3_path = f\"s3://{model_bucket}/{s3_code_prefix}/inputs/input_data_async.json\"\n",
    "output_s3uri = f\"s3://{model_bucket}/{s3_code_prefix}/outputs/anyone-video-1.mp4\"\n",
    "\n",
    "input_data_async = {\n",
    "    \"pose_seq_s3uri\": pose_s3_path,\n",
    "    \"ref_s3_path\": ref_s3_path,\n",
    "    'height': 512,\n",
    "    'width': 512,\n",
    "    'steps': 30,\n",
    "    'cfg': 3.5,\n",
    "    'fps': -1,\n",
    "    'seed': 42,\n",
    "    'length': 30,\n",
    "    'output_s3uri': output_s3uri\n",
    "}\n",
    "\n",
    "input_async_path = \"./input_data_async.json\"\n",
    "with open(input_async_path, 'w') as file:\n",
    "    json.dump(input_data_async, file)\n",
    "\n",
    "!aws s3 cp $pose_seq_path $pose_s3_path\n",
    "!aws s3 cp $ref_img_path $ref_s3_path\n",
    "!aws s3 cp $input_async_path $input_async_s3_path\n"
   ]
  },
  {
   "cell_type": "code",
   "execution_count": null,
   "id": "d0d14a5e-d112-4596-a61b-4731596fc9fe",
   "metadata": {
    "tags": []
   },
   "outputs": [],
   "source": [
    "sm_runtime = boto3.Session().client(\"sagemaker-runtime\")\n",
    "\n",
    "response = sm_runtime.invoke_endpoint_async(\n",
    "    EndpointName=endpoint_name, \n",
    "    InputLocation=input_async_s3_path,\n",
    "    InvocationTimeoutSeconds=3600\n",
    ")\n",
    "output_location = response['OutputLocation']\n",
    "print(f\"OutputLocation: {output_location}\")"
   ]
  },
  {
   "cell_type": "code",
   "execution_count": 28,
   "id": "ea533e6a-eb0b-4e7f-aad3-2370f2826195",
   "metadata": {
    "tags": []
   },
   "outputs": [],
   "source": [
    "from botocore.exceptions import ClientError\n",
    "import urllib\n",
    "import sys\n",
    "\n",
    "timeout = 1200\n",
    "\n",
    "def get_output(output_location, timeout=1200):\n",
    "    output_url = urllib.parse.urlparse(output_location)\n",
    "    bucket = output_url.netloc\n",
    "    key = output_url.path[1:]\n",
    "    start_time = time.time()\n",
    "    while True:\n",
    "        try:\n",
    "            return sess.read_s3_file(bucket=output_url.netloc, key_prefix=output_url.path[1:])\n",
    "        except ClientError as e:\n",
    "            if e.response['Error']['Code'] == 'NoSuchKey':\n",
    "                print(\"waiting for output...\")\n",
    "                time.sleep(2)\n",
    "                if time.time() - start_time > timeout:\n",
    "                    raise Exception(\"timeout!!!\")\n",
    "                    break\n",
    "                continue\n",
    "            raise"
   ]
  },
  {
   "cell_type": "code",
   "execution_count": 29,
   "id": "0e286d5c-7223-4fb6-876e-33c6aca441c6",
   "metadata": {
    "scrolled": true,
    "tags": []
   },
   "outputs": [
    {
     "name": "stdout",
     "output_type": "stream",
     "text": [
      "waiting for output...\n",
      "waiting for output...\n",
      "waiting for output...\n",
      "waiting for output...\n",
      "waiting for output...\n",
      "waiting for output...\n",
      "waiting for output...\n",
      "waiting for output...\n",
      "waiting for output...\n",
      "waiting for output...\n",
      "waiting for output...\n",
      "waiting for output...\n",
      "waiting for output...\n",
      "waiting for output...\n",
      "waiting for output...\n",
      "waiting for output...\n",
      "waiting for output...\n",
      "waiting for output...\n",
      "waiting for output...\n",
      "waiting for output...\n",
      "waiting for output...\n",
      "waiting for output...\n",
      "waiting for output...\n",
      "waiting for output...\n",
      "waiting for output...\n",
      "waiting for output...\n",
      "waiting for output...\n",
      "waiting for output...\n",
      "waiting for output...\n",
      "waiting for output...\n",
      "waiting for output...\n",
      "waiting for output...\n",
      "waiting for output...\n",
      "waiting for output...\n",
      "waiting for output...\n",
      "waiting for output...\n",
      "waiting for output...\n",
      "waiting for output...\n",
      "waiting for output...\n",
      "waiting for output...\n",
      "waiting for output...\n",
      "waiting for output...\n",
      "waiting for output...\n",
      "waiting for output...\n",
      "waiting for output...\n",
      "waiting for output...\n",
      "waiting for output...\n",
      "waiting for output...\n",
      "Output size in bytes: 143\n"
     ]
    }
   ],
   "source": [
    "output = get_output(output_location)\n",
    "print(f\"Output size in bytes: {((sys.getsizeof(output)))}\")"
   ]
  },
  {
   "cell_type": "code",
   "execution_count": null,
   "id": "1db03f3e-436e-495d-9c88-e8ed1618674b",
   "metadata": {
    "tags": []
   },
   "outputs": [],
   "source": [
    "!aws s3 cp $output_s3uri generated_res.mp4"
   ]
  },
  {
   "cell_type": "code",
   "execution_count": 31,
   "id": "0cf39ad3-3921-484b-883a-e5dafc325802",
   "metadata": {
    "tags": []
   },
   "outputs": [
    {
     "name": "stdout",
     "output_type": "stream",
     "text": [
      "\u001b[33m(Deprecated) Installing extensions with the jupyter labextension install command is now deprecated and will be removed in a future major version of JupyterLab.\n",
      "\n",
      "Users should manage prebuilt extensions with package managers like pip and conda, and extension authors are encouraged to distribute their extensions as prebuilt packages \u001b[0m\n",
      "/home/ec2-user/anaconda3/envs/pytorch_p310/lib/python3.10/site-packages/jupyterlab/debuglog.py:54: UserWarning: An error occurred.\n",
      "  warnings.warn(\"An error occurred.\")\n",
      "/home/ec2-user/anaconda3/envs/pytorch_p310/lib/python3.10/site-packages/jupyterlab/debuglog.py:55: UserWarning: ValueError: Please install Node.js and npm before continuing installation. You may be able to install Node.js from your package manager, from conda, or directly from the Node.js website (https://nodejs.org).\n",
      "  warnings.warn(msg[-1].strip())\n",
      "/home/ec2-user/anaconda3/envs/pytorch_p310/lib/python3.10/site-packages/jupyterlab/debuglog.py:56: UserWarning: See the log file for details: /tmp/jupyterlab-debug-5cx0p4cw.log\n",
      "  warnings.warn(f\"See the log file for details: {log_path!s}\")\n"
     ]
    }
   ],
   "source": [
    "!jupyter labextension install @jupyter-widgets/jupyterlab-manager"
   ]
  },
  {
   "cell_type": "code",
   "execution_count": 32,
   "id": "6618ec64-871c-46d4-aa13-672ea5b2df94",
   "metadata": {
    "tags": []
   },
   "outputs": [
    {
     "data": {
      "text/html": [
       "\n",
       "<video width=\"640\" height=\"480\" controls>\n",
       "  <source src=\"generated_res.mp4\" type=\"video/mp4\">\n",
       "  Your browser does not support the video tag.\n",
       "</video>\n"
      ],
      "text/plain": [
       "<IPython.core.display.HTML object>"
      ]
     },
     "execution_count": 32,
     "metadata": {},
     "output_type": "execute_result"
    }
   ],
   "source": [
    "from IPython.display import HTML\n",
    "\n",
    "video_path = \"generated_res.mp4\"\n",
    "\n",
    "video_html = f\"\"\"\n",
    "<video width=\"640\" height=\"480\" controls>\n",
    "  <source src=\"{video_path}\" type=\"video/mp4\">\n",
    "  Your browser does not support the video tag.\n",
    "</video>\n",
    "\"\"\"\n",
    "HTML(video_html)"
   ]
  },
  {
   "cell_type": "markdown",
   "id": "a9a0f164-fe65-4d49-8787-92f7e17fe327",
   "metadata": {},
   "source": [
    "### Image captioning"
   ]
  },
  {
   "cell_type": "markdown",
   "id": "4c714b1b-00c6-48be-b0d0-2381bf5e6cf2",
   "metadata": {},
   "source": [
    "## Clean up\n",
    "Uncomment the below cell to delete the endpoint and model when you finish the experiment"
   ]
  },
  {
   "cell_type": "code",
   "execution_count": 41,
   "id": "22616f1c-a919-4f77-af58-de3a0bbffe06",
   "metadata": {
    "tags": []
   },
   "outputs": [
    {
     "data": {
      "text/plain": [
       "{'ResponseMetadata': {'RequestId': '251a1cfb-9ec0-44f6-9666-525908903f39',\n",
       "  'HTTPStatusCode': 200,\n",
       "  'HTTPHeaders': {'x-amzn-requestid': '251a1cfb-9ec0-44f6-9666-525908903f39',\n",
       "   'content-type': 'application/x-amz-json-1.1',\n",
       "   'date': 'Tue, 23 Jul 2024 08:52:52 GMT',\n",
       "   'content-length': '0'},\n",
       "  'RetryAttempts': 0}}"
      ]
     },
     "execution_count": 41,
     "metadata": {},
     "output_type": "execute_result"
    }
   ],
   "source": [
    "sm_client.delete_model(ModelName=model_name)\n",
    "sm_client.delete_endpoint(EndpointName=endpoint_name)\n",
    "sm_client.delete_endpoint_config(EndpointConfigName=async_endpoint_config_name)"
   ]
  },
  {
   "cell_type": "code",
   "execution_count": null,
   "id": "58538c4e-38e7-4b25-82ef-af059196f5a8",
   "metadata": {},
   "outputs": [],
   "source": []
  }
 ],
 "metadata": {
  "availableInstances": [
   {
    "_defaultOrder": 0,
    "_isFastLaunch": true,
    "category": "General purpose",
    "gpuNum": 0,
    "hideHardwareSpecs": false,
    "memoryGiB": 4,
    "name": "ml.t3.medium",
    "vcpuNum": 2
   },
   {
    "_defaultOrder": 1,
    "_isFastLaunch": false,
    "category": "General purpose",
    "gpuNum": 0,
    "hideHardwareSpecs": false,
    "memoryGiB": 8,
    "name": "ml.t3.large",
    "vcpuNum": 2
   },
   {
    "_defaultOrder": 2,
    "_isFastLaunch": false,
    "category": "General purpose",
    "gpuNum": 0,
    "hideHardwareSpecs": false,
    "memoryGiB": 16,
    "name": "ml.t3.xlarge",
    "vcpuNum": 4
   },
   {
    "_defaultOrder": 3,
    "_isFastLaunch": false,
    "category": "General purpose",
    "gpuNum": 0,
    "hideHardwareSpecs": false,
    "memoryGiB": 32,
    "name": "ml.t3.2xlarge",
    "vcpuNum": 8
   },
   {
    "_defaultOrder": 4,
    "_isFastLaunch": true,
    "category": "General purpose",
    "gpuNum": 0,
    "hideHardwareSpecs": false,
    "memoryGiB": 8,
    "name": "ml.m5.large",
    "vcpuNum": 2
   },
   {
    "_defaultOrder": 5,
    "_isFastLaunch": false,
    "category": "General purpose",
    "gpuNum": 0,
    "hideHardwareSpecs": false,
    "memoryGiB": 16,
    "name": "ml.m5.xlarge",
    "vcpuNum": 4
   },
   {
    "_defaultOrder": 6,
    "_isFastLaunch": false,
    "category": "General purpose",
    "gpuNum": 0,
    "hideHardwareSpecs": false,
    "memoryGiB": 32,
    "name": "ml.m5.2xlarge",
    "vcpuNum": 8
   },
   {
    "_defaultOrder": 7,
    "_isFastLaunch": false,
    "category": "General purpose",
    "gpuNum": 0,
    "hideHardwareSpecs": false,
    "memoryGiB": 64,
    "name": "ml.m5.4xlarge",
    "vcpuNum": 16
   },
   {
    "_defaultOrder": 8,
    "_isFastLaunch": false,
    "category": "General purpose",
    "gpuNum": 0,
    "hideHardwareSpecs": false,
    "memoryGiB": 128,
    "name": "ml.m5.8xlarge",
    "vcpuNum": 32
   },
   {
    "_defaultOrder": 9,
    "_isFastLaunch": false,
    "category": "General purpose",
    "gpuNum": 0,
    "hideHardwareSpecs": false,
    "memoryGiB": 192,
    "name": "ml.m5.12xlarge",
    "vcpuNum": 48
   },
   {
    "_defaultOrder": 10,
    "_isFastLaunch": false,
    "category": "General purpose",
    "gpuNum": 0,
    "hideHardwareSpecs": false,
    "memoryGiB": 256,
    "name": "ml.m5.16xlarge",
    "vcpuNum": 64
   },
   {
    "_defaultOrder": 11,
    "_isFastLaunch": false,
    "category": "General purpose",
    "gpuNum": 0,
    "hideHardwareSpecs": false,
    "memoryGiB": 384,
    "name": "ml.m5.24xlarge",
    "vcpuNum": 96
   },
   {
    "_defaultOrder": 12,
    "_isFastLaunch": false,
    "category": "General purpose",
    "gpuNum": 0,
    "hideHardwareSpecs": false,
    "memoryGiB": 8,
    "name": "ml.m5d.large",
    "vcpuNum": 2
   },
   {
    "_defaultOrder": 13,
    "_isFastLaunch": false,
    "category": "General purpose",
    "gpuNum": 0,
    "hideHardwareSpecs": false,
    "memoryGiB": 16,
    "name": "ml.m5d.xlarge",
    "vcpuNum": 4
   },
   {
    "_defaultOrder": 14,
    "_isFastLaunch": false,
    "category": "General purpose",
    "gpuNum": 0,
    "hideHardwareSpecs": false,
    "memoryGiB": 32,
    "name": "ml.m5d.2xlarge",
    "vcpuNum": 8
   },
   {
    "_defaultOrder": 15,
    "_isFastLaunch": false,
    "category": "General purpose",
    "gpuNum": 0,
    "hideHardwareSpecs": false,
    "memoryGiB": 64,
    "name": "ml.m5d.4xlarge",
    "vcpuNum": 16
   },
   {
    "_defaultOrder": 16,
    "_isFastLaunch": false,
    "category": "General purpose",
    "gpuNum": 0,
    "hideHardwareSpecs": false,
    "memoryGiB": 128,
    "name": "ml.m5d.8xlarge",
    "vcpuNum": 32
   },
   {
    "_defaultOrder": 17,
    "_isFastLaunch": false,
    "category": "General purpose",
    "gpuNum": 0,
    "hideHardwareSpecs": false,
    "memoryGiB": 192,
    "name": "ml.m5d.12xlarge",
    "vcpuNum": 48
   },
   {
    "_defaultOrder": 18,
    "_isFastLaunch": false,
    "category": "General purpose",
    "gpuNum": 0,
    "hideHardwareSpecs": false,
    "memoryGiB": 256,
    "name": "ml.m5d.16xlarge",
    "vcpuNum": 64
   },
   {
    "_defaultOrder": 19,
    "_isFastLaunch": false,
    "category": "General purpose",
    "gpuNum": 0,
    "hideHardwareSpecs": false,
    "memoryGiB": 384,
    "name": "ml.m5d.24xlarge",
    "vcpuNum": 96
   },
   {
    "_defaultOrder": 20,
    "_isFastLaunch": false,
    "category": "General purpose",
    "gpuNum": 0,
    "hideHardwareSpecs": true,
    "memoryGiB": 0,
    "name": "ml.geospatial.interactive",
    "supportedImageNames": [
     "sagemaker-geospatial-v1-0"
    ],
    "vcpuNum": 0
   },
   {
    "_defaultOrder": 21,
    "_isFastLaunch": true,
    "category": "Compute optimized",
    "gpuNum": 0,
    "hideHardwareSpecs": false,
    "memoryGiB": 4,
    "name": "ml.c5.large",
    "vcpuNum": 2
   },
   {
    "_defaultOrder": 22,
    "_isFastLaunch": false,
    "category": "Compute optimized",
    "gpuNum": 0,
    "hideHardwareSpecs": false,
    "memoryGiB": 8,
    "name": "ml.c5.xlarge",
    "vcpuNum": 4
   },
   {
    "_defaultOrder": 23,
    "_isFastLaunch": false,
    "category": "Compute optimized",
    "gpuNum": 0,
    "hideHardwareSpecs": false,
    "memoryGiB": 16,
    "name": "ml.c5.2xlarge",
    "vcpuNum": 8
   },
   {
    "_defaultOrder": 24,
    "_isFastLaunch": false,
    "category": "Compute optimized",
    "gpuNum": 0,
    "hideHardwareSpecs": false,
    "memoryGiB": 32,
    "name": "ml.c5.4xlarge",
    "vcpuNum": 16
   },
   {
    "_defaultOrder": 25,
    "_isFastLaunch": false,
    "category": "Compute optimized",
    "gpuNum": 0,
    "hideHardwareSpecs": false,
    "memoryGiB": 72,
    "name": "ml.c5.9xlarge",
    "vcpuNum": 36
   },
   {
    "_defaultOrder": 26,
    "_isFastLaunch": false,
    "category": "Compute optimized",
    "gpuNum": 0,
    "hideHardwareSpecs": false,
    "memoryGiB": 96,
    "name": "ml.c5.12xlarge",
    "vcpuNum": 48
   },
   {
    "_defaultOrder": 27,
    "_isFastLaunch": false,
    "category": "Compute optimized",
    "gpuNum": 0,
    "hideHardwareSpecs": false,
    "memoryGiB": 144,
    "name": "ml.c5.18xlarge",
    "vcpuNum": 72
   },
   {
    "_defaultOrder": 28,
    "_isFastLaunch": false,
    "category": "Compute optimized",
    "gpuNum": 0,
    "hideHardwareSpecs": false,
    "memoryGiB": 192,
    "name": "ml.c5.24xlarge",
    "vcpuNum": 96
   },
   {
    "_defaultOrder": 29,
    "_isFastLaunch": true,
    "category": "Accelerated computing",
    "gpuNum": 1,
    "hideHardwareSpecs": false,
    "memoryGiB": 16,
    "name": "ml.g4dn.xlarge",
    "vcpuNum": 4
   },
   {
    "_defaultOrder": 30,
    "_isFastLaunch": false,
    "category": "Accelerated computing",
    "gpuNum": 1,
    "hideHardwareSpecs": false,
    "memoryGiB": 32,
    "name": "ml.g4dn.2xlarge",
    "vcpuNum": 8
   },
   {
    "_defaultOrder": 31,
    "_isFastLaunch": false,
    "category": "Accelerated computing",
    "gpuNum": 1,
    "hideHardwareSpecs": false,
    "memoryGiB": 64,
    "name": "ml.g4dn.4xlarge",
    "vcpuNum": 16
   },
   {
    "_defaultOrder": 32,
    "_isFastLaunch": false,
    "category": "Accelerated computing",
    "gpuNum": 1,
    "hideHardwareSpecs": false,
    "memoryGiB": 128,
    "name": "ml.g4dn.8xlarge",
    "vcpuNum": 32
   },
   {
    "_defaultOrder": 33,
    "_isFastLaunch": false,
    "category": "Accelerated computing",
    "gpuNum": 4,
    "hideHardwareSpecs": false,
    "memoryGiB": 192,
    "name": "ml.g4dn.12xlarge",
    "vcpuNum": 48
   },
   {
    "_defaultOrder": 34,
    "_isFastLaunch": false,
    "category": "Accelerated computing",
    "gpuNum": 1,
    "hideHardwareSpecs": false,
    "memoryGiB": 256,
    "name": "ml.g4dn.16xlarge",
    "vcpuNum": 64
   },
   {
    "_defaultOrder": 35,
    "_isFastLaunch": false,
    "category": "Accelerated computing",
    "gpuNum": 1,
    "hideHardwareSpecs": false,
    "memoryGiB": 61,
    "name": "ml.p3.2xlarge",
    "vcpuNum": 8
   },
   {
    "_defaultOrder": 36,
    "_isFastLaunch": false,
    "category": "Accelerated computing",
    "gpuNum": 4,
    "hideHardwareSpecs": false,
    "memoryGiB": 244,
    "name": "ml.p3.8xlarge",
    "vcpuNum": 32
   },
   {
    "_defaultOrder": 37,
    "_isFastLaunch": false,
    "category": "Accelerated computing",
    "gpuNum": 8,
    "hideHardwareSpecs": false,
    "memoryGiB": 488,
    "name": "ml.p3.16xlarge",
    "vcpuNum": 64
   },
   {
    "_defaultOrder": 38,
    "_isFastLaunch": false,
    "category": "Accelerated computing",
    "gpuNum": 8,
    "hideHardwareSpecs": false,
    "memoryGiB": 768,
    "name": "ml.p3dn.24xlarge",
    "vcpuNum": 96
   },
   {
    "_defaultOrder": 39,
    "_isFastLaunch": false,
    "category": "Memory Optimized",
    "gpuNum": 0,
    "hideHardwareSpecs": false,
    "memoryGiB": 16,
    "name": "ml.r5.large",
    "vcpuNum": 2
   },
   {
    "_defaultOrder": 40,
    "_isFastLaunch": false,
    "category": "Memory Optimized",
    "gpuNum": 0,
    "hideHardwareSpecs": false,
    "memoryGiB": 32,
    "name": "ml.r5.xlarge",
    "vcpuNum": 4
   },
   {
    "_defaultOrder": 41,
    "_isFastLaunch": false,
    "category": "Memory Optimized",
    "gpuNum": 0,
    "hideHardwareSpecs": false,
    "memoryGiB": 64,
    "name": "ml.r5.2xlarge",
    "vcpuNum": 8
   },
   {
    "_defaultOrder": 42,
    "_isFastLaunch": false,
    "category": "Memory Optimized",
    "gpuNum": 0,
    "hideHardwareSpecs": false,
    "memoryGiB": 128,
    "name": "ml.r5.4xlarge",
    "vcpuNum": 16
   },
   {
    "_defaultOrder": 43,
    "_isFastLaunch": false,
    "category": "Memory Optimized",
    "gpuNum": 0,
    "hideHardwareSpecs": false,
    "memoryGiB": 256,
    "name": "ml.r5.8xlarge",
    "vcpuNum": 32
   },
   {
    "_defaultOrder": 44,
    "_isFastLaunch": false,
    "category": "Memory Optimized",
    "gpuNum": 0,
    "hideHardwareSpecs": false,
    "memoryGiB": 384,
    "name": "ml.r5.12xlarge",
    "vcpuNum": 48
   },
   {
    "_defaultOrder": 45,
    "_isFastLaunch": false,
    "category": "Memory Optimized",
    "gpuNum": 0,
    "hideHardwareSpecs": false,
    "memoryGiB": 512,
    "name": "ml.r5.16xlarge",
    "vcpuNum": 64
   },
   {
    "_defaultOrder": 46,
    "_isFastLaunch": false,
    "category": "Memory Optimized",
    "gpuNum": 0,
    "hideHardwareSpecs": false,
    "memoryGiB": 768,
    "name": "ml.r5.24xlarge",
    "vcpuNum": 96
   },
   {
    "_defaultOrder": 47,
    "_isFastLaunch": false,
    "category": "Accelerated computing",
    "gpuNum": 1,
    "hideHardwareSpecs": false,
    "memoryGiB": 16,
    "name": "ml.g5.xlarge",
    "vcpuNum": 4
   },
   {
    "_defaultOrder": 48,
    "_isFastLaunch": false,
    "category": "Accelerated computing",
    "gpuNum": 1,
    "hideHardwareSpecs": false,
    "memoryGiB": 32,
    "name": "ml.g5.2xlarge",
    "vcpuNum": 8
   },
   {
    "_defaultOrder": 49,
    "_isFastLaunch": false,
    "category": "Accelerated computing",
    "gpuNum": 1,
    "hideHardwareSpecs": false,
    "memoryGiB": 64,
    "name": "ml.g5.4xlarge",
    "vcpuNum": 16
   },
   {
    "_defaultOrder": 50,
    "_isFastLaunch": false,
    "category": "Accelerated computing",
    "gpuNum": 1,
    "hideHardwareSpecs": false,
    "memoryGiB": 128,
    "name": "ml.g5.8xlarge",
    "vcpuNum": 32
   },
   {
    "_defaultOrder": 51,
    "_isFastLaunch": false,
    "category": "Accelerated computing",
    "gpuNum": 1,
    "hideHardwareSpecs": false,
    "memoryGiB": 256,
    "name": "ml.g5.16xlarge",
    "vcpuNum": 64
   },
   {
    "_defaultOrder": 52,
    "_isFastLaunch": false,
    "category": "Accelerated computing",
    "gpuNum": 4,
    "hideHardwareSpecs": false,
    "memoryGiB": 192,
    "name": "ml.g5.12xlarge",
    "vcpuNum": 48
   },
   {
    "_defaultOrder": 53,
    "_isFastLaunch": false,
    "category": "Accelerated computing",
    "gpuNum": 4,
    "hideHardwareSpecs": false,
    "memoryGiB": 384,
    "name": "ml.g5.24xlarge",
    "vcpuNum": 96
   },
   {
    "_defaultOrder": 54,
    "_isFastLaunch": false,
    "category": "Accelerated computing",
    "gpuNum": 8,
    "hideHardwareSpecs": false,
    "memoryGiB": 768,
    "name": "ml.g5.48xlarge",
    "vcpuNum": 192
   },
   {
    "_defaultOrder": 55,
    "_isFastLaunch": false,
    "category": "Accelerated computing",
    "gpuNum": 8,
    "hideHardwareSpecs": false,
    "memoryGiB": 1152,
    "name": "ml.p4d.24xlarge",
    "vcpuNum": 96
   },
   {
    "_defaultOrder": 56,
    "_isFastLaunch": false,
    "category": "Accelerated computing",
    "gpuNum": 8,
    "hideHardwareSpecs": false,
    "memoryGiB": 1152,
    "name": "ml.p4de.24xlarge",
    "vcpuNum": 96
   },
   {
    "_defaultOrder": 57,
    "_isFastLaunch": false,
    "category": "Accelerated computing",
    "gpuNum": 0,
    "hideHardwareSpecs": false,
    "memoryGiB": 32,
    "name": "ml.trn1.2xlarge",
    "vcpuNum": 8
   },
   {
    "_defaultOrder": 58,
    "_isFastLaunch": false,
    "category": "Accelerated computing",
    "gpuNum": 0,
    "hideHardwareSpecs": false,
    "memoryGiB": 512,
    "name": "ml.trn1.32xlarge",
    "vcpuNum": 128
   },
   {
    "_defaultOrder": 59,
    "_isFastLaunch": false,
    "category": "Accelerated computing",
    "gpuNum": 0,
    "hideHardwareSpecs": false,
    "memoryGiB": 512,
    "name": "ml.trn1n.32xlarge",
    "vcpuNum": 128
   }
  ],
  "instance_type": "ml.t3.medium",
  "kernelspec": {
   "display_name": "conda_pytorch_p310",
   "language": "python",
   "name": "conda_pytorch_p310"
  },
  "language_info": {
   "codemirror_mode": {
    "name": "ipython",
    "version": 3
   },
   "file_extension": ".py",
   "mimetype": "text/x-python",
   "name": "python",
   "nbconvert_exporter": "python",
   "pygments_lexer": "ipython3",
   "version": "3.10.14"
  }
 },
 "nbformat": 4,
 "nbformat_minor": 5
}
