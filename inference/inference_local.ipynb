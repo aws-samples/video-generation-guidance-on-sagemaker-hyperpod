{
 "cells": [
  {
   "cell_type": "markdown",
   "id": "36ebff3a-0e05-4df4-b504-7b5e1c366882",
   "metadata": {},
   "source": [
    "# Video generation inference with SageMaker\n",
    "\n",
    "In this notebook, we will walk through the deployment of the pretrained or fine-tuned models."
   ]
  },
  {
   "cell_type": "code",
   "execution_count": 1,
   "id": "636b7c8f-b3a5-46c2-90aa-99108ad241ac",
   "metadata": {
    "tags": []
   },
   "outputs": [
    {
     "name": "stdout",
     "output_type": "stream",
     "text": [
      "Requirement already satisfied: huggingface_hub in /home/ec2-user/anaconda3/envs/pytorch_p310/lib/python3.10/site-packages (0.23.4)\n",
      "Requirement already satisfied: filelock in /home/ec2-user/anaconda3/envs/pytorch_p310/lib/python3.10/site-packages (from huggingface_hub) (3.13.3)\n",
      "Requirement already satisfied: fsspec>=2023.5.0 in /home/ec2-user/anaconda3/envs/pytorch_p310/lib/python3.10/site-packages (from huggingface_hub) (2024.3.1)\n",
      "Requirement already satisfied: packaging>=20.9 in /home/ec2-user/anaconda3/envs/pytorch_p310/lib/python3.10/site-packages (from huggingface_hub) (21.3)\n",
      "Requirement already satisfied: pyyaml>=5.1 in /home/ec2-user/anaconda3/envs/pytorch_p310/lib/python3.10/site-packages (from huggingface_hub) (6.0.1)\n",
      "Requirement already satisfied: requests in /home/ec2-user/anaconda3/envs/pytorch_p310/lib/python3.10/site-packages (from huggingface_hub) (2.31.0)\n",
      "Requirement already satisfied: tqdm>=4.42.1 in /home/ec2-user/anaconda3/envs/pytorch_p310/lib/python3.10/site-packages (from huggingface_hub) (4.66.1)\n",
      "Requirement already satisfied: typing-extensions>=3.7.4.3 in /home/ec2-user/anaconda3/envs/pytorch_p310/lib/python3.10/site-packages (from huggingface_hub) (4.10.0)\n",
      "Requirement already satisfied: pyparsing!=3.0.5,>=2.0.2 in /home/ec2-user/anaconda3/envs/pytorch_p310/lib/python3.10/site-packages (from packaging>=20.9->huggingface_hub) (3.1.2)\n",
      "Requirement already satisfied: charset-normalizer<4,>=2 in /home/ec2-user/anaconda3/envs/pytorch_p310/lib/python3.10/site-packages (from requests->huggingface_hub) (3.3.2)\n",
      "Requirement already satisfied: idna<4,>=2.5 in /home/ec2-user/anaconda3/envs/pytorch_p310/lib/python3.10/site-packages (from requests->huggingface_hub) (3.6)\n",
      "Requirement already satisfied: urllib3<3,>=1.21.1 in /home/ec2-user/anaconda3/envs/pytorch_p310/lib/python3.10/site-packages (from requests->huggingface_hub) (2.2.1)\n",
      "Requirement already satisfied: certifi>=2017.4.17 in /home/ec2-user/anaconda3/envs/pytorch_p310/lib/python3.10/site-packages (from requests->huggingface_hub) (2024.2.2)\n",
      "\u001b[33mDEPRECATION: torchsde 0.2.5 has a non-standard dependency specifier numpy>=1.19.*; python_version >= \"3.7\". pip 24.1 will enforce this behaviour change. A possible replacement is to upgrade to a newer version of torchsde or contact the author to suggest that they release a version with a conforming dependency specifiers. Discussion can be found at https://github.com/pypa/pip/issues/12063\u001b[0m\u001b[33m\n",
      "\u001b[0m"
     ]
    }
   ],
   "source": [
    "!pip install huggingface_hub"
   ]
  },
  {
   "cell_type": "markdown",
   "id": "cbab693e-2c82-4089-af87-e18e1da84bdc",
   "metadata": {},
   "source": [
    "## Download pretrained models\n",
    "\n",
    "Download the pretrained animate anyone models from huggingface model hub or donwload the fine-tuned models trained with SageMaker HyperPod from S3 bucket."
   ]
  },
  {
   "cell_type": "code",
   "execution_count": 2,
   "id": "8a8709d5-7269-44bb-a2d9-dc59f0a2e5d7",
   "metadata": {
    "tags": []
   },
   "outputs": [
    {
     "data": {
      "application/vnd.jupyter.widget-view+json": {
       "model_id": "e0c1afcd40ac4e7ab9ce7205182ff7d6",
       "version_major": 2,
       "version_minor": 0
      },
      "text/plain": [
       "reference_unet.pth:  69%|######8   | 2.36G/3.44G [00:00<?, ?B/s]"
      ]
     },
     "metadata": {},
     "output_type": "display_data"
    },
    {
     "data": {
      "application/vnd.jupyter.widget-view+json": {
       "model_id": "adb1c077d4cf436090206873e422c324",
       "version_major": 2,
       "version_minor": 0
      },
      "text/plain": [
       "pose_guider.pth:   0%|          | 0.00/4.35M [00:00<?, ?B/s]"
      ]
     },
     "metadata": {},
     "output_type": "display_data"
    },
    {
     "data": {
      "application/vnd.jupyter.widget-view+json": {
       "model_id": "3b2d5f2ae79641bfb5a22d4d415e4b47",
       "version_major": 2,
       "version_minor": 0
      },
      "text/plain": [
       "motion_module.pth:   0%|          | 0.00/1.82G [00:00<?, ?B/s]"
      ]
     },
     "metadata": {},
     "output_type": "display_data"
    }
   ],
   "source": [
    "from huggingface_hub import hf_hub_download\n",
    "\n",
    "repo_id = 'patrolli/AnimateAnyone'\n",
    "local_path = 'pretrained_weights/animateanyone'\n",
    "\n",
    "files = ['denoising_unet.pth', 'reference_unet.pth', 'pose_guider.pth', 'motion_module.pth']\n",
    "for filename in files:\n",
    "    hf_hub_download(repo_id=repo_id, filename=filename, local_dir=local_path)"
   ]
  },
  {
   "cell_type": "raw",
   "id": "a6c5b07c-8c60-42d8-9a06-7677a65efc4e",
   "metadata": {},
   "source": [
    "!aws s3 sync <pretrained_model_s3uri> $local_path"
   ]
  },
  {
   "cell_type": "markdown",
   "id": "fbda0620-cb72-4921-8d47-cbd19b0fbf74",
   "metadata": {
    "tags": []
   },
   "source": [
    "Download pretrained model of DWPose"
   ]
  },
  {
   "cell_type": "code",
   "execution_count": 3,
   "id": "fd4365a2-31fb-4f34-9549-bee4b6b5a1f7",
   "metadata": {
    "tags": []
   },
   "outputs": [
    {
     "data": {
      "application/vnd.jupyter.widget-view+json": {
       "model_id": "f29aefa5d49842fcaf14de0184ba57a7",
       "version_major": 2,
       "version_minor": 0
      },
      "text/plain": [
       "dw-ll_ucoco_384.onnx:   0%|          | 0.00/134M [00:00<?, ?B/s]"
      ]
     },
     "metadata": {},
     "output_type": "display_data"
    },
    {
     "data": {
      "application/vnd.jupyter.widget-view+json": {
       "model_id": "effb946177ba45ed9dff6194b3aefdbe",
       "version_major": 2,
       "version_minor": 0
      },
      "text/plain": [
       "yolox_l.onnx:   0%|          | 0.00/217M [00:00<?, ?B/s]"
      ]
     },
     "metadata": {},
     "output_type": "display_data"
    }
   ],
   "source": [
    "repo_id = 'yzd-v/DWPose'\n",
    "local_path = 'pretrained_weights/DWPose'\n",
    "\n",
    "files = ['dw-ll_ucoco_384.onnx', 'yolox_l.onnx']\n",
    "for filename in files:\n",
    "    hf_hub_download(repo_id=repo_id, filename=filename, local_dir=local_path)"
   ]
  },
  {
   "cell_type": "markdown",
   "id": "f9e0eabc-63d0-4a42-8914-7981a98e5c6b",
   "metadata": {},
   "source": [
    "Download VAE pretrained model"
   ]
  },
  {
   "cell_type": "code",
   "execution_count": 4,
   "id": "1adbde50-de55-4669-92eb-2915bc682dd3",
   "metadata": {
    "tags": []
   },
   "outputs": [
    {
     "data": {
      "application/vnd.jupyter.widget-view+json": {
       "model_id": "caa72c8285474d459c7b1e2fdcc1face",
       "version_major": 2,
       "version_minor": 0
      },
      "text/plain": [
       "diffusion_pytorch_model.bin:   0%|          | 0.00/335M [00:00<?, ?B/s]"
      ]
     },
     "metadata": {},
     "output_type": "display_data"
    },
    {
     "data": {
      "application/vnd.jupyter.widget-view+json": {
       "model_id": "73f8bbd89e9347b89cd82f778ba4e69d",
       "version_major": 2,
       "version_minor": 0
      },
      "text/plain": [
       "config.json:   0%|          | 0.00/547 [00:00<?, ?B/s]"
      ]
     },
     "metadata": {},
     "output_type": "display_data"
    }
   ],
   "source": [
    "repo_id = 'stabilityai/sd-vae-ft-mse'\n",
    "local_path = 'pretrained_weights/sd-vae-ft-mse'\n",
    "\n",
    "files = ['diffusion_pytorch_model.bin', 'config.json']\n",
    "for filename in files:\n",
    "    hf_hub_download(repo_id=repo_id, filename=filename, local_dir=local_path)"
   ]
  },
  {
   "cell_type": "markdown",
   "id": "bcd36614-aa06-46b2-8aed-3a17f685a63e",
   "metadata": {},
   "source": [
    "Download SD1.5 pretrained model"
   ]
  },
  {
   "cell_type": "code",
   "execution_count": 5,
   "id": "cdab01d9-699d-4df5-b193-d5e74de1313a",
   "metadata": {
    "tags": []
   },
   "outputs": [
    {
     "data": {
      "application/vnd.jupyter.widget-view+json": {
       "model_id": "4936b40fa2a24af8bb8358cc77a18f05",
       "version_major": 2,
       "version_minor": 0
      },
      "text/plain": [
       "diffusion_pytorch_model.bin:   0%|          | 0.00/3.44G [00:00<?, ?B/s]"
      ]
     },
     "metadata": {},
     "output_type": "display_data"
    },
    {
     "data": {
      "application/vnd.jupyter.widget-view+json": {
       "model_id": "ba55b41c8b974c79ad4bc9507bf4871c",
       "version_major": 2,
       "version_minor": 0
      },
      "text/plain": [
       "unet/config.json:   0%|          | 0.00/743 [00:00<?, ?B/s]"
      ]
     },
     "metadata": {},
     "output_type": "display_data"
    }
   ],
   "source": [
    "repo_id = 'runwayml/stable-diffusion-v1-5'\n",
    "local_path = 'pretrained_weights/stable-diffusion-v1-5'\n",
    "\n",
    "files = ['diffusion_pytorch_model.bin', 'config.json']\n",
    "for filename in files:\n",
    "    hf_hub_download(repo_id=repo_id, subfolder='unet', filename=filename, local_dir=local_path)"
   ]
  },
  {
   "cell_type": "markdown",
   "id": "eb344806-b7c1-40d9-b0b3-43886f29a668",
   "metadata": {},
   "source": [
    "Download pretrained CLIP embedding model."
   ]
  },
  {
   "cell_type": "code",
   "execution_count": 6,
   "id": "d6fda350-16da-470a-aa8b-17246c51c979",
   "metadata": {
    "tags": []
   },
   "outputs": [
    {
     "data": {
      "application/vnd.jupyter.widget-view+json": {
       "model_id": "766e6b9d166b4b2c875be4a5921397e4",
       "version_major": 2,
       "version_minor": 0
      },
      "text/plain": [
       "pytorch_model.bin:   0%|          | 0.00/1.22G [00:00<?, ?B/s]"
      ]
     },
     "metadata": {},
     "output_type": "display_data"
    },
    {
     "data": {
      "application/vnd.jupyter.widget-view+json": {
       "model_id": "37ac5e787cb943baac473a470d0c7af0",
       "version_major": 2,
       "version_minor": 0
      },
      "text/plain": [
       "image_encoder/config.json:   0%|          | 0.00/703 [00:00<?, ?B/s]"
      ]
     },
     "metadata": {},
     "output_type": "display_data"
    }
   ],
   "source": [
    "repo_id = 'lambdalabs/sd-image-variations-diffusers'\n",
    "local_path = 'pretrained_weights'\n",
    "\n",
    "files = ['pytorch_model.bin', 'config.json']\n",
    "for filename in files:\n",
    "    hf_hub_download(repo_id=repo_id, filename=filename, subfolder='image_encoder', local_dir=local_path)"
   ]
  },
  {
   "cell_type": "code",
   "execution_count": 9,
   "id": "caf367b4-917f-4894-8796-8aac94eaa7cc",
   "metadata": {
    "tags": []
   },
   "outputs": [
    {
     "name": "stderr",
     "output_type": "stream",
     "text": [
      "Cloning into 'Moore-AnimateAnyone'...\n"
     ]
    }
   ],
   "source": [
    "%%bash\n",
    "git clone https://github.com/MooreThreads/Moore-AnimateAnyone.git\n",
    "cp animateanyone_infer/pose2vid.py Moore-AnimateAnyone/scripts/\n",
    "cp animateanyone_infer/vid2pose.py Moore-AnimateAnyone/tools/"
   ]
  },
  {
   "cell_type": "code",
   "execution_count": 10,
   "id": "ab3f5774-1332-4eed-845b-38b16b933acb",
   "metadata": {
    "scrolled": true,
    "tags": []
   },
   "outputs": [
    {
     "name": "stdout",
     "output_type": "stream",
     "text": [
      "Collecting clip@ https://github.com/openai/CLIP/archive/d50d76daa670286dd6cacf3bcd80b5e4823fc8e1.zip#sha256=b5842c25da441d6c581b53a5c60e0c2127ebafe0f746f8e15561a006c6c3be6a (from -r ./Moore-AnimateAnyone/requirements.txt (line 3))\n",
      "  Using cached https://github.com/openai/CLIP/archive/d50d76daa670286dd6cacf3bcd80b5e4823fc8e1.zip (4.3 MB)\n",
      "  Preparing metadata (setup.py) ... \u001b[?25ldone\n",
      "\u001b[?25hRequirement already satisfied: accelerate==0.21.0 in /home/ec2-user/anaconda3/envs/pytorch_p310/lib/python3.10/site-packages (from -r ./Moore-AnimateAnyone/requirements.txt (line 1)) (0.21.0)\n",
      "Requirement already satisfied: av==11.0.0 in /home/ec2-user/anaconda3/envs/pytorch_p310/lib/python3.10/site-packages (from -r ./Moore-AnimateAnyone/requirements.txt (line 2)) (11.0.0)\n",
      "Requirement already satisfied: decord==0.6.0 in /home/ec2-user/anaconda3/envs/pytorch_p310/lib/python3.10/site-packages (from -r ./Moore-AnimateAnyone/requirements.txt (line 4)) (0.6.0)\n",
      "Requirement already satisfied: diffusers==0.24.0 in /home/ec2-user/anaconda3/envs/pytorch_p310/lib/python3.10/site-packages (from -r ./Moore-AnimateAnyone/requirements.txt (line 5)) (0.24.0)\n",
      "Requirement already satisfied: einops==0.4.1 in /home/ec2-user/anaconda3/envs/pytorch_p310/lib/python3.10/site-packages (from -r ./Moore-AnimateAnyone/requirements.txt (line 6)) (0.4.1)\n",
      "Requirement already satisfied: gradio==3.41.2 in /home/ec2-user/anaconda3/envs/pytorch_p310/lib/python3.10/site-packages (from -r ./Moore-AnimateAnyone/requirements.txt (line 7)) (3.41.2)\n",
      "Requirement already satisfied: gradio_client==0.5.0 in /home/ec2-user/anaconda3/envs/pytorch_p310/lib/python3.10/site-packages (from -r ./Moore-AnimateAnyone/requirements.txt (line 8)) (0.5.0)\n",
      "Requirement already satisfied: imageio==2.33.0 in /home/ec2-user/anaconda3/envs/pytorch_p310/lib/python3.10/site-packages (from -r ./Moore-AnimateAnyone/requirements.txt (line 9)) (2.33.0)\n",
      "Requirement already satisfied: imageio-ffmpeg==0.4.9 in /home/ec2-user/anaconda3/envs/pytorch_p310/lib/python3.10/site-packages (from -r ./Moore-AnimateAnyone/requirements.txt (line 10)) (0.4.9)\n",
      "Requirement already satisfied: numpy==1.23.5 in /home/ec2-user/anaconda3/envs/pytorch_p310/lib/python3.10/site-packages (from -r ./Moore-AnimateAnyone/requirements.txt (line 11)) (1.23.5)\n",
      "Requirement already satisfied: omegaconf==2.2.3 in /home/ec2-user/anaconda3/envs/pytorch_p310/lib/python3.10/site-packages (from -r ./Moore-AnimateAnyone/requirements.txt (line 12)) (2.2.3)\n",
      "Requirement already satisfied: onnxruntime-gpu==1.16.3 in /home/ec2-user/anaconda3/envs/pytorch_p310/lib/python3.10/site-packages (from -r ./Moore-AnimateAnyone/requirements.txt (line 13)) (1.16.3)\n",
      "Requirement already satisfied: open-clip-torch==2.20.0 in /home/ec2-user/anaconda3/envs/pytorch_p310/lib/python3.10/site-packages (from -r ./Moore-AnimateAnyone/requirements.txt (line 14)) (2.20.0)\n",
      "Requirement already satisfied: opencv-contrib-python==4.8.1.78 in /home/ec2-user/anaconda3/envs/pytorch_p310/lib/python3.10/site-packages (from -r ./Moore-AnimateAnyone/requirements.txt (line 15)) (4.8.1.78)\n",
      "Requirement already satisfied: opencv-python==4.8.1.78 in /home/ec2-user/anaconda3/envs/pytorch_p310/lib/python3.10/site-packages (from -r ./Moore-AnimateAnyone/requirements.txt (line 16)) (4.8.1.78)\n",
      "Requirement already satisfied: Pillow==9.5.0 in /home/ec2-user/anaconda3/envs/pytorch_p310/lib/python3.10/site-packages (from -r ./Moore-AnimateAnyone/requirements.txt (line 17)) (9.5.0)\n",
      "Requirement already satisfied: scikit-image==0.21.0 in /home/ec2-user/anaconda3/envs/pytorch_p310/lib/python3.10/site-packages (from -r ./Moore-AnimateAnyone/requirements.txt (line 18)) (0.21.0)\n",
      "Requirement already satisfied: scikit-learn==1.3.2 in /home/ec2-user/anaconda3/envs/pytorch_p310/lib/python3.10/site-packages (from -r ./Moore-AnimateAnyone/requirements.txt (line 19)) (1.3.2)\n",
      "Requirement already satisfied: scipy==1.11.4 in /home/ec2-user/anaconda3/envs/pytorch_p310/lib/python3.10/site-packages (from -r ./Moore-AnimateAnyone/requirements.txt (line 20)) (1.11.4)\n",
      "Requirement already satisfied: torch==2.0.1 in /home/ec2-user/anaconda3/envs/pytorch_p310/lib/python3.10/site-packages (from -r ./Moore-AnimateAnyone/requirements.txt (line 21)) (2.0.1)\n",
      "Requirement already satisfied: torchdiffeq==0.2.3 in /home/ec2-user/anaconda3/envs/pytorch_p310/lib/python3.10/site-packages (from -r ./Moore-AnimateAnyone/requirements.txt (line 22)) (0.2.3)\n",
      "Requirement already satisfied: torchmetrics==1.2.1 in /home/ec2-user/anaconda3/envs/pytorch_p310/lib/python3.10/site-packages (from -r ./Moore-AnimateAnyone/requirements.txt (line 23)) (1.2.1)\n",
      "Requirement already satisfied: torchsde==0.2.5 in /home/ec2-user/anaconda3/envs/pytorch_p310/lib/python3.10/site-packages (from -r ./Moore-AnimateAnyone/requirements.txt (line 24)) (0.2.5)\n",
      "Requirement already satisfied: torchvision==0.15.2 in /home/ec2-user/anaconda3/envs/pytorch_p310/lib/python3.10/site-packages (from -r ./Moore-AnimateAnyone/requirements.txt (line 25)) (0.15.2)\n",
      "Requirement already satisfied: tqdm==4.66.1 in /home/ec2-user/anaconda3/envs/pytorch_p310/lib/python3.10/site-packages (from -r ./Moore-AnimateAnyone/requirements.txt (line 26)) (4.66.1)\n",
      "Requirement already satisfied: transformers==4.30.2 in /home/ec2-user/anaconda3/envs/pytorch_p310/lib/python3.10/site-packages (from -r ./Moore-AnimateAnyone/requirements.txt (line 27)) (4.30.2)\n",
      "Requirement already satisfied: mlflow==2.9.2 in /home/ec2-user/anaconda3/envs/pytorch_p310/lib/python3.10/site-packages (from -r ./Moore-AnimateAnyone/requirements.txt (line 28)) (2.9.2)\n",
      "Requirement already satisfied: xformers==0.0.22 in /home/ec2-user/anaconda3/envs/pytorch_p310/lib/python3.10/site-packages (from -r ./Moore-AnimateAnyone/requirements.txt (line 29)) (0.0.22)\n",
      "Requirement already satisfied: controlnet-aux==0.0.7 in /home/ec2-user/anaconda3/envs/pytorch_p310/lib/python3.10/site-packages (from -r ./Moore-AnimateAnyone/requirements.txt (line 30)) (0.0.7)\n",
      "Requirement already satisfied: packaging>=20.0 in /home/ec2-user/anaconda3/envs/pytorch_p310/lib/python3.10/site-packages (from accelerate==0.21.0->-r ./Moore-AnimateAnyone/requirements.txt (line 1)) (21.3)\n",
      "Requirement already satisfied: psutil in /home/ec2-user/anaconda3/envs/pytorch_p310/lib/python3.10/site-packages (from accelerate==0.21.0->-r ./Moore-AnimateAnyone/requirements.txt (line 1)) (5.9.8)\n",
      "Requirement already satisfied: pyyaml in /home/ec2-user/anaconda3/envs/pytorch_p310/lib/python3.10/site-packages (from accelerate==0.21.0->-r ./Moore-AnimateAnyone/requirements.txt (line 1)) (6.0.1)\n",
      "Requirement already satisfied: filelock in /home/ec2-user/anaconda3/envs/pytorch_p310/lib/python3.10/site-packages (from diffusers==0.24.0->-r ./Moore-AnimateAnyone/requirements.txt (line 5)) (3.13.3)\n",
      "Requirement already satisfied: huggingface-hub>=0.19.4 in /home/ec2-user/anaconda3/envs/pytorch_p310/lib/python3.10/site-packages (from diffusers==0.24.0->-r ./Moore-AnimateAnyone/requirements.txt (line 5)) (0.23.4)\n",
      "Requirement already satisfied: importlib-metadata in /home/ec2-user/anaconda3/envs/pytorch_p310/lib/python3.10/site-packages (from diffusers==0.24.0->-r ./Moore-AnimateAnyone/requirements.txt (line 5)) (6.11.0)\n",
      "Requirement already satisfied: regex!=2019.12.17 in /home/ec2-user/anaconda3/envs/pytorch_p310/lib/python3.10/site-packages (from diffusers==0.24.0->-r ./Moore-AnimateAnyone/requirements.txt (line 5)) (2024.5.15)\n",
      "Requirement already satisfied: requests in /home/ec2-user/anaconda3/envs/pytorch_p310/lib/python3.10/site-packages (from diffusers==0.24.0->-r ./Moore-AnimateAnyone/requirements.txt (line 5)) (2.31.0)\n",
      "Requirement already satisfied: safetensors>=0.3.1 in /home/ec2-user/anaconda3/envs/pytorch_p310/lib/python3.10/site-packages (from diffusers==0.24.0->-r ./Moore-AnimateAnyone/requirements.txt (line 5)) (0.4.3)\n",
      "Requirement already satisfied: aiofiles<24.0,>=22.0 in /home/ec2-user/anaconda3/envs/pytorch_p310/lib/python3.10/site-packages (from gradio==3.41.2->-r ./Moore-AnimateAnyone/requirements.txt (line 7)) (23.2.1)\n",
      "Requirement already satisfied: altair<6.0,>=4.2.0 in /home/ec2-user/anaconda3/envs/pytorch_p310/lib/python3.10/site-packages (from gradio==3.41.2->-r ./Moore-AnimateAnyone/requirements.txt (line 7)) (5.3.0)\n",
      "Requirement already satisfied: fastapi in /home/ec2-user/anaconda3/envs/pytorch_p310/lib/python3.10/site-packages (from gradio==3.41.2->-r ./Moore-AnimateAnyone/requirements.txt (line 7)) (0.111.0)\n",
      "Requirement already satisfied: ffmpy in /home/ec2-user/anaconda3/envs/pytorch_p310/lib/python3.10/site-packages (from gradio==3.41.2->-r ./Moore-AnimateAnyone/requirements.txt (line 7)) (0.3.2)\n",
      "Requirement already satisfied: httpx in /home/ec2-user/anaconda3/envs/pytorch_p310/lib/python3.10/site-packages (from gradio==3.41.2->-r ./Moore-AnimateAnyone/requirements.txt (line 7)) (0.27.0)\n",
      "Requirement already satisfied: importlib-resources<7.0,>=1.3 in /home/ec2-user/anaconda3/envs/pytorch_p310/lib/python3.10/site-packages (from gradio==3.41.2->-r ./Moore-AnimateAnyone/requirements.txt (line 7)) (6.4.0)\n",
      "Requirement already satisfied: jinja2<4.0 in /home/ec2-user/anaconda3/envs/pytorch_p310/lib/python3.10/site-packages (from gradio==3.41.2->-r ./Moore-AnimateAnyone/requirements.txt (line 7)) (3.1.3)\n",
      "Requirement already satisfied: markupsafe~=2.0 in /home/ec2-user/anaconda3/envs/pytorch_p310/lib/python3.10/site-packages (from gradio==3.41.2->-r ./Moore-AnimateAnyone/requirements.txt (line 7)) (2.1.5)\n",
      "Requirement already satisfied: matplotlib~=3.0 in /home/ec2-user/anaconda3/envs/pytorch_p310/lib/python3.10/site-packages (from gradio==3.41.2->-r ./Moore-AnimateAnyone/requirements.txt (line 7)) (3.8.3)\n",
      "Requirement already satisfied: orjson~=3.0 in /home/ec2-user/anaconda3/envs/pytorch_p310/lib/python3.10/site-packages (from gradio==3.41.2->-r ./Moore-AnimateAnyone/requirements.txt (line 7)) (3.10.6)\n",
      "Requirement already satisfied: pandas<3.0,>=1.0 in /home/ec2-user/anaconda3/envs/pytorch_p310/lib/python3.10/site-packages (from gradio==3.41.2->-r ./Moore-AnimateAnyone/requirements.txt (line 7)) (1.5.3)\n",
      "Requirement already satisfied: pydantic!=1.8,!=1.8.1,!=2.0.0,!=2.0.1,<3.0.0,>=1.7.4 in /home/ec2-user/anaconda3/envs/pytorch_p310/lib/python3.10/site-packages (from gradio==3.41.2->-r ./Moore-AnimateAnyone/requirements.txt (line 7)) (1.10.17)\n",
      "Requirement already satisfied: pydub in /home/ec2-user/anaconda3/envs/pytorch_p310/lib/python3.10/site-packages (from gradio==3.41.2->-r ./Moore-AnimateAnyone/requirements.txt (line 7)) (0.25.1)\n",
      "Requirement already satisfied: python-multipart in /home/ec2-user/anaconda3/envs/pytorch_p310/lib/python3.10/site-packages (from gradio==3.41.2->-r ./Moore-AnimateAnyone/requirements.txt (line 7)) (0.0.9)\n",
      "Requirement already satisfied: semantic-version~=2.0 in /home/ec2-user/anaconda3/envs/pytorch_p310/lib/python3.10/site-packages (from gradio==3.41.2->-r ./Moore-AnimateAnyone/requirements.txt (line 7)) (2.10.0)\n",
      "Requirement already satisfied: typing-extensions~=4.0 in /home/ec2-user/anaconda3/envs/pytorch_p310/lib/python3.10/site-packages (from gradio==3.41.2->-r ./Moore-AnimateAnyone/requirements.txt (line 7)) (4.10.0)\n",
      "Requirement already satisfied: uvicorn>=0.14.0 in /home/ec2-user/anaconda3/envs/pytorch_p310/lib/python3.10/site-packages (from gradio==3.41.2->-r ./Moore-AnimateAnyone/requirements.txt (line 7)) (0.30.1)\n",
      "Requirement already satisfied: websockets<12.0,>=10.0 in /home/ec2-user/anaconda3/envs/pytorch_p310/lib/python3.10/site-packages (from gradio==3.41.2->-r ./Moore-AnimateAnyone/requirements.txt (line 7)) (11.0.3)\n",
      "Requirement already satisfied: fsspec in /home/ec2-user/anaconda3/envs/pytorch_p310/lib/python3.10/site-packages (from gradio_client==0.5.0->-r ./Moore-AnimateAnyone/requirements.txt (line 8)) (2024.3.1)\n",
      "Requirement already satisfied: setuptools in /home/ec2-user/anaconda3/envs/pytorch_p310/lib/python3.10/site-packages (from imageio-ffmpeg==0.4.9->-r ./Moore-AnimateAnyone/requirements.txt (line 10)) (69.2.0)\n",
      "Requirement already satisfied: antlr4-python3-runtime==4.9.* in /home/ec2-user/anaconda3/envs/pytorch_p310/lib/python3.10/site-packages (from omegaconf==2.2.3->-r ./Moore-AnimateAnyone/requirements.txt (line 12)) (4.9.3)\n",
      "Requirement already satisfied: coloredlogs in /home/ec2-user/anaconda3/envs/pytorch_p310/lib/python3.10/site-packages (from onnxruntime-gpu==1.16.3->-r ./Moore-AnimateAnyone/requirements.txt (line 13)) (15.0.1)\n",
      "Requirement already satisfied: flatbuffers in /home/ec2-user/anaconda3/envs/pytorch_p310/lib/python3.10/site-packages (from onnxruntime-gpu==1.16.3->-r ./Moore-AnimateAnyone/requirements.txt (line 13)) (24.3.25)\n",
      "Requirement already satisfied: protobuf in /home/ec2-user/anaconda3/envs/pytorch_p310/lib/python3.10/site-packages (from onnxruntime-gpu==1.16.3->-r ./Moore-AnimateAnyone/requirements.txt (line 13)) (3.20.3)\n",
      "Requirement already satisfied: sympy in /home/ec2-user/anaconda3/envs/pytorch_p310/lib/python3.10/site-packages (from onnxruntime-gpu==1.16.3->-r ./Moore-AnimateAnyone/requirements.txt (line 13)) (1.12)\n",
      "Requirement already satisfied: ftfy in /home/ec2-user/anaconda3/envs/pytorch_p310/lib/python3.10/site-packages (from open-clip-torch==2.20.0->-r ./Moore-AnimateAnyone/requirements.txt (line 14)) (6.2.0)\n",
      "Requirement already satisfied: sentencepiece in /home/ec2-user/anaconda3/envs/pytorch_p310/lib/python3.10/site-packages (from open-clip-torch==2.20.0->-r ./Moore-AnimateAnyone/requirements.txt (line 14)) (0.2.0)\n",
      "Requirement already satisfied: timm in /home/ec2-user/anaconda3/envs/pytorch_p310/lib/python3.10/site-packages (from open-clip-torch==2.20.0->-r ./Moore-AnimateAnyone/requirements.txt (line 14)) (1.0.7)\n",
      "Requirement already satisfied: networkx>=2.8 in /home/ec2-user/anaconda3/envs/pytorch_p310/lib/python3.10/site-packages (from scikit-image==0.21.0->-r ./Moore-AnimateAnyone/requirements.txt (line 18)) (3.2.1)\n",
      "Requirement already satisfied: tifffile>=2022.8.12 in /home/ec2-user/anaconda3/envs/pytorch_p310/lib/python3.10/site-packages (from scikit-image==0.21.0->-r ./Moore-AnimateAnyone/requirements.txt (line 18)) (2024.7.2)\n",
      "Requirement already satisfied: PyWavelets>=1.1.1 in /home/ec2-user/anaconda3/envs/pytorch_p310/lib/python3.10/site-packages (from scikit-image==0.21.0->-r ./Moore-AnimateAnyone/requirements.txt (line 18)) (1.6.0)\n",
      "Requirement already satisfied: lazy_loader>=0.2 in /home/ec2-user/anaconda3/envs/pytorch_p310/lib/python3.10/site-packages (from scikit-image==0.21.0->-r ./Moore-AnimateAnyone/requirements.txt (line 18)) (0.4)\n",
      "Requirement already satisfied: joblib>=1.1.1 in /home/ec2-user/anaconda3/envs/pytorch_p310/lib/python3.10/site-packages (from scikit-learn==1.3.2->-r ./Moore-AnimateAnyone/requirements.txt (line 19)) (1.3.2)\n",
      "Requirement already satisfied: threadpoolctl>=2.0.0 in /home/ec2-user/anaconda3/envs/pytorch_p310/lib/python3.10/site-packages (from scikit-learn==1.3.2->-r ./Moore-AnimateAnyone/requirements.txt (line 19)) (3.4.0)\n",
      "Requirement already satisfied: nvidia-cuda-nvrtc-cu11==11.7.99 in /home/ec2-user/anaconda3/envs/pytorch_p310/lib/python3.10/site-packages (from torch==2.0.1->-r ./Moore-AnimateAnyone/requirements.txt (line 21)) (11.7.99)\n",
      "Requirement already satisfied: nvidia-cuda-runtime-cu11==11.7.99 in /home/ec2-user/anaconda3/envs/pytorch_p310/lib/python3.10/site-packages (from torch==2.0.1->-r ./Moore-AnimateAnyone/requirements.txt (line 21)) (11.7.99)\n",
      "Requirement already satisfied: nvidia-cuda-cupti-cu11==11.7.101 in /home/ec2-user/anaconda3/envs/pytorch_p310/lib/python3.10/site-packages (from torch==2.0.1->-r ./Moore-AnimateAnyone/requirements.txt (line 21)) (11.7.101)\n",
      "Requirement already satisfied: nvidia-cudnn-cu11==8.5.0.96 in /home/ec2-user/anaconda3/envs/pytorch_p310/lib/python3.10/site-packages (from torch==2.0.1->-r ./Moore-AnimateAnyone/requirements.txt (line 21)) (8.5.0.96)\n",
      "Requirement already satisfied: nvidia-cublas-cu11==11.10.3.66 in /home/ec2-user/anaconda3/envs/pytorch_p310/lib/python3.10/site-packages (from torch==2.0.1->-r ./Moore-AnimateAnyone/requirements.txt (line 21)) (11.10.3.66)\n",
      "Requirement already satisfied: nvidia-cufft-cu11==10.9.0.58 in /home/ec2-user/anaconda3/envs/pytorch_p310/lib/python3.10/site-packages (from torch==2.0.1->-r ./Moore-AnimateAnyone/requirements.txt (line 21)) (10.9.0.58)\n",
      "Requirement already satisfied: nvidia-curand-cu11==10.2.10.91 in /home/ec2-user/anaconda3/envs/pytorch_p310/lib/python3.10/site-packages (from torch==2.0.1->-r ./Moore-AnimateAnyone/requirements.txt (line 21)) (10.2.10.91)\n",
      "Requirement already satisfied: nvidia-cusolver-cu11==11.4.0.1 in /home/ec2-user/anaconda3/envs/pytorch_p310/lib/python3.10/site-packages (from torch==2.0.1->-r ./Moore-AnimateAnyone/requirements.txt (line 21)) (11.4.0.1)\n",
      "Requirement already satisfied: nvidia-cusparse-cu11==11.7.4.91 in /home/ec2-user/anaconda3/envs/pytorch_p310/lib/python3.10/site-packages (from torch==2.0.1->-r ./Moore-AnimateAnyone/requirements.txt (line 21)) (11.7.4.91)\n",
      "Requirement already satisfied: nvidia-nccl-cu11==2.14.3 in /home/ec2-user/anaconda3/envs/pytorch_p310/lib/python3.10/site-packages (from torch==2.0.1->-r ./Moore-AnimateAnyone/requirements.txt (line 21)) (2.14.3)\n",
      "Requirement already satisfied: nvidia-nvtx-cu11==11.7.91 in /home/ec2-user/anaconda3/envs/pytorch_p310/lib/python3.10/site-packages (from torch==2.0.1->-r ./Moore-AnimateAnyone/requirements.txt (line 21)) (11.7.91)\n",
      "Requirement already satisfied: triton==2.0.0 in /home/ec2-user/anaconda3/envs/pytorch_p310/lib/python3.10/site-packages (from torch==2.0.1->-r ./Moore-AnimateAnyone/requirements.txt (line 21)) (2.0.0)\n",
      "Requirement already satisfied: lightning-utilities>=0.8.0 in /home/ec2-user/anaconda3/envs/pytorch_p310/lib/python3.10/site-packages (from torchmetrics==1.2.1->-r ./Moore-AnimateAnyone/requirements.txt (line 23)) (0.11.3.post0)\n",
      "Requirement already satisfied: boltons>=20.2.1 in /home/ec2-user/anaconda3/envs/pytorch_p310/lib/python3.10/site-packages (from torchsde==0.2.5->-r ./Moore-AnimateAnyone/requirements.txt (line 24)) (24.0.0)\n",
      "Requirement already satisfied: trampoline>=0.1.2 in /home/ec2-user/anaconda3/envs/pytorch_p310/lib/python3.10/site-packages (from torchsde==0.2.5->-r ./Moore-AnimateAnyone/requirements.txt (line 24)) (0.1.2)\n",
      "Requirement already satisfied: tokenizers!=0.11.3,<0.14,>=0.11.1 in /home/ec2-user/anaconda3/envs/pytorch_p310/lib/python3.10/site-packages (from transformers==4.30.2->-r ./Moore-AnimateAnyone/requirements.txt (line 27)) (0.13.3)\n",
      "Requirement already satisfied: click<9,>=7.0 in /home/ec2-user/anaconda3/envs/pytorch_p310/lib/python3.10/site-packages (from mlflow==2.9.2->-r ./Moore-AnimateAnyone/requirements.txt (line 28)) (8.1.7)\n",
      "Requirement already satisfied: cloudpickle<4 in /home/ec2-user/anaconda3/envs/pytorch_p310/lib/python3.10/site-packages (from mlflow==2.9.2->-r ./Moore-AnimateAnyone/requirements.txt (line 28)) (2.2.1)\n",
      "Requirement already satisfied: databricks-cli<1,>=0.8.7 in /home/ec2-user/anaconda3/envs/pytorch_p310/lib/python3.10/site-packages (from mlflow==2.9.2->-r ./Moore-AnimateAnyone/requirements.txt (line 28)) (0.18.0)\n",
      "Requirement already satisfied: entrypoints<1 in /home/ec2-user/anaconda3/envs/pytorch_p310/lib/python3.10/site-packages (from mlflow==2.9.2->-r ./Moore-AnimateAnyone/requirements.txt (line 28)) (0.4)\n",
      "Requirement already satisfied: gitpython<4,>=2.1.0 in /home/ec2-user/anaconda3/envs/pytorch_p310/lib/python3.10/site-packages (from mlflow==2.9.2->-r ./Moore-AnimateAnyone/requirements.txt (line 28)) (3.1.43)\n",
      "Requirement already satisfied: pytz<2024 in /home/ec2-user/anaconda3/envs/pytorch_p310/lib/python3.10/site-packages (from mlflow==2.9.2->-r ./Moore-AnimateAnyone/requirements.txt (line 28)) (2023.4)\n",
      "Requirement already satisfied: sqlparse<1,>=0.4.0 in /home/ec2-user/anaconda3/envs/pytorch_p310/lib/python3.10/site-packages (from mlflow==2.9.2->-r ./Moore-AnimateAnyone/requirements.txt (line 28)) (0.5.0)\n",
      "Requirement already satisfied: alembic!=1.10.0,<2 in /home/ec2-user/anaconda3/envs/pytorch_p310/lib/python3.10/site-packages (from mlflow==2.9.2->-r ./Moore-AnimateAnyone/requirements.txt (line 28)) (1.13.2)\n",
      "Requirement already satisfied: docker<7,>=4.0.0 in /home/ec2-user/anaconda3/envs/pytorch_p310/lib/python3.10/site-packages (from mlflow==2.9.2->-r ./Moore-AnimateAnyone/requirements.txt (line 28)) (6.1.3)\n",
      "Requirement already satisfied: Flask<4 in /home/ec2-user/anaconda3/envs/pytorch_p310/lib/python3.10/site-packages (from mlflow==2.9.2->-r ./Moore-AnimateAnyone/requirements.txt (line 28)) (3.0.2)\n",
      "Requirement already satisfied: querystring-parser<2 in /home/ec2-user/anaconda3/envs/pytorch_p310/lib/python3.10/site-packages (from mlflow==2.9.2->-r ./Moore-AnimateAnyone/requirements.txt (line 28)) (1.2.4)\n",
      "Requirement already satisfied: sqlalchemy<3,>=1.4.0 in /home/ec2-user/anaconda3/envs/pytorch_p310/lib/python3.10/site-packages (from mlflow==2.9.2->-r ./Moore-AnimateAnyone/requirements.txt (line 28)) (2.0.31)\n",
      "Requirement already satisfied: pyarrow<15,>=4.0.0 in /home/ec2-user/anaconda3/envs/pytorch_p310/lib/python3.10/site-packages (from mlflow==2.9.2->-r ./Moore-AnimateAnyone/requirements.txt (line 28)) (14.0.2)\n",
      "Requirement already satisfied: markdown<4,>=3.3 in /home/ec2-user/anaconda3/envs/pytorch_p310/lib/python3.10/site-packages (from mlflow==2.9.2->-r ./Moore-AnimateAnyone/requirements.txt (line 28)) (3.6)\n",
      "Requirement already satisfied: gunicorn<22 in /home/ec2-user/anaconda3/envs/pytorch_p310/lib/python3.10/site-packages (from mlflow==2.9.2->-r ./Moore-AnimateAnyone/requirements.txt (line 28)) (21.2.0)\n",
      "Requirement already satisfied: wheel in /home/ec2-user/anaconda3/envs/pytorch_p310/lib/python3.10/site-packages (from nvidia-cublas-cu11==11.10.3.66->torch==2.0.1->-r ./Moore-AnimateAnyone/requirements.txt (line 21)) (0.43.0)\n",
      "Requirement already satisfied: cmake in /home/ec2-user/anaconda3/envs/pytorch_p310/lib/python3.10/site-packages (from triton==2.0.0->torch==2.0.1->-r ./Moore-AnimateAnyone/requirements.txt (line 21)) (3.30.0)\n",
      "Requirement already satisfied: lit in /home/ec2-user/anaconda3/envs/pytorch_p310/lib/python3.10/site-packages (from triton==2.0.0->torch==2.0.1->-r ./Moore-AnimateAnyone/requirements.txt (line 21)) (18.1.8)\n",
      "Requirement already satisfied: Mako in /home/ec2-user/anaconda3/envs/pytorch_p310/lib/python3.10/site-packages (from alembic!=1.10.0,<2->mlflow==2.9.2->-r ./Moore-AnimateAnyone/requirements.txt (line 28)) (1.3.5)\n",
      "Requirement already satisfied: jsonschema>=3.0 in /home/ec2-user/anaconda3/envs/pytorch_p310/lib/python3.10/site-packages (from altair<6.0,>=4.2.0->gradio==3.41.2->-r ./Moore-AnimateAnyone/requirements.txt (line 7)) (4.21.1)\n",
      "Requirement already satisfied: toolz in /home/ec2-user/anaconda3/envs/pytorch_p310/lib/python3.10/site-packages (from altair<6.0,>=4.2.0->gradio==3.41.2->-r ./Moore-AnimateAnyone/requirements.txt (line 7)) (0.12.1)\n",
      "Requirement already satisfied: pyjwt>=1.7.0 in /home/ec2-user/anaconda3/envs/pytorch_p310/lib/python3.10/site-packages (from databricks-cli<1,>=0.8.7->mlflow==2.9.2->-r ./Moore-AnimateAnyone/requirements.txt (line 28)) (2.8.0)\n",
      "Requirement already satisfied: oauthlib>=3.1.0 in /home/ec2-user/anaconda3/envs/pytorch_p310/lib/python3.10/site-packages (from databricks-cli<1,>=0.8.7->mlflow==2.9.2->-r ./Moore-AnimateAnyone/requirements.txt (line 28)) (3.2.2)\n",
      "Requirement already satisfied: tabulate>=0.7.7 in /home/ec2-user/anaconda3/envs/pytorch_p310/lib/python3.10/site-packages (from databricks-cli<1,>=0.8.7->mlflow==2.9.2->-r ./Moore-AnimateAnyone/requirements.txt (line 28)) (0.9.0)\n",
      "Requirement already satisfied: six>=1.10.0 in /home/ec2-user/anaconda3/envs/pytorch_p310/lib/python3.10/site-packages (from databricks-cli<1,>=0.8.7->mlflow==2.9.2->-r ./Moore-AnimateAnyone/requirements.txt (line 28)) (1.16.0)\n",
      "Requirement already satisfied: urllib3<3,>=1.26.7 in /home/ec2-user/anaconda3/envs/pytorch_p310/lib/python3.10/site-packages (from databricks-cli<1,>=0.8.7->mlflow==2.9.2->-r ./Moore-AnimateAnyone/requirements.txt (line 28)) (2.2.1)\n",
      "Requirement already satisfied: websocket-client>=0.32.0 in /home/ec2-user/anaconda3/envs/pytorch_p310/lib/python3.10/site-packages (from docker<7,>=4.0.0->mlflow==2.9.2->-r ./Moore-AnimateAnyone/requirements.txt (line 28)) (1.7.0)\n",
      "Requirement already satisfied: Werkzeug>=3.0.0 in /home/ec2-user/anaconda3/envs/pytorch_p310/lib/python3.10/site-packages (from Flask<4->mlflow==2.9.2->-r ./Moore-AnimateAnyone/requirements.txt (line 28)) (3.0.1)\n",
      "Requirement already satisfied: itsdangerous>=2.1.2 in /home/ec2-user/anaconda3/envs/pytorch_p310/lib/python3.10/site-packages (from Flask<4->mlflow==2.9.2->-r ./Moore-AnimateAnyone/requirements.txt (line 28)) (2.1.2)\n",
      "Requirement already satisfied: blinker>=1.6.2 in /home/ec2-user/anaconda3/envs/pytorch_p310/lib/python3.10/site-packages (from Flask<4->mlflow==2.9.2->-r ./Moore-AnimateAnyone/requirements.txt (line 28)) (1.7.0)\n",
      "Requirement already satisfied: gitdb<5,>=4.0.1 in /home/ec2-user/anaconda3/envs/pytorch_p310/lib/python3.10/site-packages (from gitpython<4,>=2.1.0->mlflow==2.9.2->-r ./Moore-AnimateAnyone/requirements.txt (line 28)) (4.0.11)\n",
      "Requirement already satisfied: zipp>=0.5 in /home/ec2-user/anaconda3/envs/pytorch_p310/lib/python3.10/site-packages (from importlib-metadata->diffusers==0.24.0->-r ./Moore-AnimateAnyone/requirements.txt (line 5)) (3.17.0)\n",
      "Requirement already satisfied: contourpy>=1.0.1 in /home/ec2-user/anaconda3/envs/pytorch_p310/lib/python3.10/site-packages (from matplotlib~=3.0->gradio==3.41.2->-r ./Moore-AnimateAnyone/requirements.txt (line 7)) (1.2.0)\n",
      "Requirement already satisfied: cycler>=0.10 in /home/ec2-user/anaconda3/envs/pytorch_p310/lib/python3.10/site-packages (from matplotlib~=3.0->gradio==3.41.2->-r ./Moore-AnimateAnyone/requirements.txt (line 7)) (0.12.1)\n",
      "Requirement already satisfied: fonttools>=4.22.0 in /home/ec2-user/anaconda3/envs/pytorch_p310/lib/python3.10/site-packages (from matplotlib~=3.0->gradio==3.41.2->-r ./Moore-AnimateAnyone/requirements.txt (line 7)) (4.50.0)\n",
      "Requirement already satisfied: kiwisolver>=1.3.1 in /home/ec2-user/anaconda3/envs/pytorch_p310/lib/python3.10/site-packages (from matplotlib~=3.0->gradio==3.41.2->-r ./Moore-AnimateAnyone/requirements.txt (line 7)) (1.4.5)\n",
      "Requirement already satisfied: pyparsing>=2.3.1 in /home/ec2-user/anaconda3/envs/pytorch_p310/lib/python3.10/site-packages (from matplotlib~=3.0->gradio==3.41.2->-r ./Moore-AnimateAnyone/requirements.txt (line 7)) (3.1.2)\n",
      "Requirement already satisfied: python-dateutil>=2.7 in /home/ec2-user/anaconda3/envs/pytorch_p310/lib/python3.10/site-packages (from matplotlib~=3.0->gradio==3.41.2->-r ./Moore-AnimateAnyone/requirements.txt (line 7)) (2.9.0)\n",
      "Requirement already satisfied: charset-normalizer<4,>=2 in /home/ec2-user/anaconda3/envs/pytorch_p310/lib/python3.10/site-packages (from requests->diffusers==0.24.0->-r ./Moore-AnimateAnyone/requirements.txt (line 5)) (3.3.2)\n",
      "Requirement already satisfied: idna<4,>=2.5 in /home/ec2-user/anaconda3/envs/pytorch_p310/lib/python3.10/site-packages (from requests->diffusers==0.24.0->-r ./Moore-AnimateAnyone/requirements.txt (line 5)) (3.6)\n",
      "Requirement already satisfied: certifi>=2017.4.17 in /home/ec2-user/anaconda3/envs/pytorch_p310/lib/python3.10/site-packages (from requests->diffusers==0.24.0->-r ./Moore-AnimateAnyone/requirements.txt (line 5)) (2024.2.2)\n",
      "Requirement already satisfied: greenlet!=0.4.17 in /home/ec2-user/anaconda3/envs/pytorch_p310/lib/python3.10/site-packages (from sqlalchemy<3,>=1.4.0->mlflow==2.9.2->-r ./Moore-AnimateAnyone/requirements.txt (line 28)) (3.0.3)\n",
      "Requirement already satisfied: h11>=0.8 in /home/ec2-user/anaconda3/envs/pytorch_p310/lib/python3.10/site-packages (from uvicorn>=0.14.0->gradio==3.41.2->-r ./Moore-AnimateAnyone/requirements.txt (line 7)) (0.14.0)\n",
      "Requirement already satisfied: humanfriendly>=9.1 in /home/ec2-user/anaconda3/envs/pytorch_p310/lib/python3.10/site-packages (from coloredlogs->onnxruntime-gpu==1.16.3->-r ./Moore-AnimateAnyone/requirements.txt (line 13)) (10.0)\n",
      "Requirement already satisfied: starlette<0.38.0,>=0.37.2 in /home/ec2-user/anaconda3/envs/pytorch_p310/lib/python3.10/site-packages (from fastapi->gradio==3.41.2->-r ./Moore-AnimateAnyone/requirements.txt (line 7)) (0.37.2)\n",
      "Requirement already satisfied: fastapi-cli>=0.0.2 in /home/ec2-user/anaconda3/envs/pytorch_p310/lib/python3.10/site-packages (from fastapi->gradio==3.41.2->-r ./Moore-AnimateAnyone/requirements.txt (line 7)) (0.0.4)\n",
      "Requirement already satisfied: ujson!=4.0.2,!=4.1.0,!=4.2.0,!=4.3.0,!=5.0.0,!=5.1.0,>=4.0.1 in /home/ec2-user/anaconda3/envs/pytorch_p310/lib/python3.10/site-packages (from fastapi->gradio==3.41.2->-r ./Moore-AnimateAnyone/requirements.txt (line 7)) (5.9.0)\n",
      "Requirement already satisfied: email_validator>=2.0.0 in /home/ec2-user/anaconda3/envs/pytorch_p310/lib/python3.10/site-packages (from fastapi->gradio==3.41.2->-r ./Moore-AnimateAnyone/requirements.txt (line 7)) (2.2.0)\n",
      "Requirement already satisfied: anyio in /home/ec2-user/anaconda3/envs/pytorch_p310/lib/python3.10/site-packages (from httpx->gradio==3.41.2->-r ./Moore-AnimateAnyone/requirements.txt (line 7)) (4.3.0)\n",
      "Requirement already satisfied: httpcore==1.* in /home/ec2-user/anaconda3/envs/pytorch_p310/lib/python3.10/site-packages (from httpx->gradio==3.41.2->-r ./Moore-AnimateAnyone/requirements.txt (line 7)) (1.0.4)\n",
      "Requirement already satisfied: sniffio in /home/ec2-user/anaconda3/envs/pytorch_p310/lib/python3.10/site-packages (from httpx->gradio==3.41.2->-r ./Moore-AnimateAnyone/requirements.txt (line 7)) (1.3.1)\n",
      "Requirement already satisfied: wcwidth<0.3.0,>=0.2.12 in /home/ec2-user/anaconda3/envs/pytorch_p310/lib/python3.10/site-packages (from ftfy->open-clip-torch==2.20.0->-r ./Moore-AnimateAnyone/requirements.txt (line 14)) (0.2.13)\n",
      "Requirement already satisfied: mpmath>=0.19 in /home/ec2-user/anaconda3/envs/pytorch_p310/lib/python3.10/site-packages (from sympy->onnxruntime-gpu==1.16.3->-r ./Moore-AnimateAnyone/requirements.txt (line 13)) (1.3.0)\n",
      "Requirement already satisfied: dnspython>=2.0.0 in /home/ec2-user/anaconda3/envs/pytorch_p310/lib/python3.10/site-packages (from email_validator>=2.0.0->fastapi->gradio==3.41.2->-r ./Moore-AnimateAnyone/requirements.txt (line 7)) (2.6.1)\n",
      "Requirement already satisfied: typer>=0.12.3 in /home/ec2-user/anaconda3/envs/pytorch_p310/lib/python3.10/site-packages (from fastapi-cli>=0.0.2->fastapi->gradio==3.41.2->-r ./Moore-AnimateAnyone/requirements.txt (line 7)) (0.12.3)\n",
      "Requirement already satisfied: smmap<6,>=3.0.1 in /home/ec2-user/anaconda3/envs/pytorch_p310/lib/python3.10/site-packages (from gitdb<5,>=4.0.1->gitpython<4,>=2.1.0->mlflow==2.9.2->-r ./Moore-AnimateAnyone/requirements.txt (line 28)) (5.0.1)\n",
      "Requirement already satisfied: attrs>=22.2.0 in /home/ec2-user/anaconda3/envs/pytorch_p310/lib/python3.10/site-packages (from jsonschema>=3.0->altair<6.0,>=4.2.0->gradio==3.41.2->-r ./Moore-AnimateAnyone/requirements.txt (line 7)) (23.2.0)\n",
      "Requirement already satisfied: jsonschema-specifications>=2023.03.6 in /home/ec2-user/anaconda3/envs/pytorch_p310/lib/python3.10/site-packages (from jsonschema>=3.0->altair<6.0,>=4.2.0->gradio==3.41.2->-r ./Moore-AnimateAnyone/requirements.txt (line 7)) (2023.12.1)\n",
      "Requirement already satisfied: referencing>=0.28.4 in /home/ec2-user/anaconda3/envs/pytorch_p310/lib/python3.10/site-packages (from jsonschema>=3.0->altair<6.0,>=4.2.0->gradio==3.41.2->-r ./Moore-AnimateAnyone/requirements.txt (line 7)) (0.34.0)\n",
      "Requirement already satisfied: rpds-py>=0.7.1 in /home/ec2-user/anaconda3/envs/pytorch_p310/lib/python3.10/site-packages (from jsonschema>=3.0->altair<6.0,>=4.2.0->gradio==3.41.2->-r ./Moore-AnimateAnyone/requirements.txt (line 7)) (0.18.0)\n",
      "Requirement already satisfied: exceptiongroup>=1.0.2 in /home/ec2-user/anaconda3/envs/pytorch_p310/lib/python3.10/site-packages (from anyio->httpx->gradio==3.41.2->-r ./Moore-AnimateAnyone/requirements.txt (line 7)) (1.2.0)\n",
      "Requirement already satisfied: httptools>=0.5.0 in /home/ec2-user/anaconda3/envs/pytorch_p310/lib/python3.10/site-packages (from uvicorn[standard]>=0.12.0->fastapi->gradio==3.41.2->-r ./Moore-AnimateAnyone/requirements.txt (line 7)) (0.6.1)\n",
      "Requirement already satisfied: python-dotenv>=0.13 in /home/ec2-user/anaconda3/envs/pytorch_p310/lib/python3.10/site-packages (from uvicorn[standard]>=0.12.0->fastapi->gradio==3.41.2->-r ./Moore-AnimateAnyone/requirements.txt (line 7)) (1.0.1)\n",
      "Requirement already satisfied: uvloop!=0.15.0,!=0.15.1,>=0.14.0 in /home/ec2-user/anaconda3/envs/pytorch_p310/lib/python3.10/site-packages (from uvicorn[standard]>=0.12.0->fastapi->gradio==3.41.2->-r ./Moore-AnimateAnyone/requirements.txt (line 7)) (0.19.0)\n",
      "Requirement already satisfied: watchfiles>=0.13 in /home/ec2-user/anaconda3/envs/pytorch_p310/lib/python3.10/site-packages (from uvicorn[standard]>=0.12.0->fastapi->gradio==3.41.2->-r ./Moore-AnimateAnyone/requirements.txt (line 7)) (0.22.0)\n",
      "Requirement already satisfied: shellingham>=1.3.0 in /home/ec2-user/anaconda3/envs/pytorch_p310/lib/python3.10/site-packages (from typer>=0.12.3->fastapi-cli>=0.0.2->fastapi->gradio==3.41.2->-r ./Moore-AnimateAnyone/requirements.txt (line 7)) (1.5.4)\n",
      "Requirement already satisfied: rich>=10.11.0 in /home/ec2-user/anaconda3/envs/pytorch_p310/lib/python3.10/site-packages (from typer>=0.12.3->fastapi-cli>=0.0.2->fastapi->gradio==3.41.2->-r ./Moore-AnimateAnyone/requirements.txt (line 7)) (13.7.1)\n",
      "Requirement already satisfied: markdown-it-py>=2.2.0 in /home/ec2-user/anaconda3/envs/pytorch_p310/lib/python3.10/site-packages (from rich>=10.11.0->typer>=0.12.3->fastapi-cli>=0.0.2->fastapi->gradio==3.41.2->-r ./Moore-AnimateAnyone/requirements.txt (line 7)) (3.0.0)\n",
      "Requirement already satisfied: pygments<3.0.0,>=2.13.0 in /home/ec2-user/anaconda3/envs/pytorch_p310/lib/python3.10/site-packages (from rich>=10.11.0->typer>=0.12.3->fastapi-cli>=0.0.2->fastapi->gradio==3.41.2->-r ./Moore-AnimateAnyone/requirements.txt (line 7)) (2.17.2)\n",
      "Requirement already satisfied: mdurl~=0.1 in /home/ec2-user/anaconda3/envs/pytorch_p310/lib/python3.10/site-packages (from markdown-it-py>=2.2.0->rich>=10.11.0->typer>=0.12.3->fastapi-cli>=0.0.2->fastapi->gradio==3.41.2->-r ./Moore-AnimateAnyone/requirements.txt (line 7)) (0.1.2)\n",
      "\u001b[33mDEPRECATION: torchsde 0.2.5 has a non-standard dependency specifier numpy>=1.19.*; python_version >= \"3.7\". pip 24.1 will enforce this behaviour change. A possible replacement is to upgrade to a newer version of torchsde or contact the author to suggest that they release a version with a conforming dependency specifiers. Discussion can be found at https://github.com/pypa/pip/issues/12063\u001b[0m\u001b[33m\n",
      "\u001b[0m"
     ]
    }
   ],
   "source": [
    "!pip install -r ./Moore-AnimateAnyone/requirements.txt"
   ]
  },
  {
   "cell_type": "markdown",
   "id": "6d1b8cea-dd04-4c05-8b5a-20a3b4b5cc6b",
   "metadata": {},
   "source": [
    "## Inferance on local environment\n",
    "\n",
    "### (Optional) Generate a pose sequence file"
   ]
  },
  {
   "cell_type": "code",
   "execution_count": null,
   "id": "68736795-39a1-4333-b109-0c66676da1d8",
   "metadata": {
    "tags": []
   },
   "outputs": [],
   "source": [
    "sample_data_path = 'sample_data/ref.mp4' # replace it with your own reference video file"
   ]
  },
  {
   "cell_type": "code",
   "execution_count": null,
   "id": "c938164e-5654-4093-b438-264463e877e4",
   "metadata": {
    "scrolled": true,
    "tags": []
   },
   "outputs": [],
   "source": [
    "%%time\n",
    "!python ./Moore-AnimateAnyone/tools/vid2pose.py --video_path $sample_data_path"
   ]
  },
  {
   "cell_type": "markdown",
   "id": "b4016b5d-0bc5-4dd3-8d20-e3c56f3330b1",
   "metadata": {},
   "source": [
    "### Generate a video with reference image and pose sequence\n",
    "\n",
    "Prepare a inference config file. "
   ]
  },
  {
   "cell_type": "code",
   "execution_count": 11,
   "id": "6c798d53-5fb5-4aa1-9d4e-8d1a664fe479",
   "metadata": {
    "tags": []
   },
   "outputs": [
    {
     "name": "stdout",
     "output_type": "stream",
     "text": [
      "Writing infer_config.yaml\n"
     ]
    }
   ],
   "source": [
    "%%writefile infer_config.yaml\n",
    "pretrained_base_model_path: \"./pretrained_weights/stable-diffusion-v1-5/\"\n",
    "pretrained_vae_path: \"./pretrained_weights/sd-vae-ft-mse\"\n",
    "image_encoder_path: \"./pretrained_weights/image_encoder\"\n",
    "denoising_unet_path: \"./pretrained_weights/animateanyone/denoising_unet.pth\"\n",
    "reference_unet_path: \"./pretrained_weights/animateanyone/reference_unet.pth\"\n",
    "pose_guider_path: \"./pretrained_weights/animateanyone/pose_guider.pth\"\n",
    "motion_module_path: \"./pretrained_weights/animateanyone/motion_module.pth\"\n",
    "\n",
    "test_cases:\n",
    "    \"Moore-AnimateAnyone/configs/inference/ref_images/anyone-1.png\": # replace with your own inference image\n",
    "    - \"Moore-AnimateAnyone/configs/inference/pose_videos/anyone-video-1_kps.mp4\" # replace with your own pose sequence\n",
    "\n",
    "weight_dtype: 'fp16'\n",
    "inference_config:\n",
    "    unet_additional_kwargs:\n",
    "      use_inflated_groupnorm: true\n",
    "      unet_use_cross_frame_attention: false \n",
    "      unet_use_temporal_attention: false\n",
    "      use_motion_module: true\n",
    "      motion_module_resolutions:\n",
    "      - 1\n",
    "      - 2\n",
    "      - 4\n",
    "      - 8\n",
    "      motion_module_mid_block: true \n",
    "      motion_module_decoder_only: false\n",
    "      motion_module_type: Vanilla\n",
    "      motion_module_kwargs:\n",
    "        num_attention_heads: 8\n",
    "        num_transformer_block: 1\n",
    "        attention_block_types:\n",
    "        - Temporal_Self\n",
    "        - Temporal_Self\n",
    "        temporal_position_encoding: true\n",
    "        temporal_position_encoding_max_len: 32\n",
    "        temporal_attention_dim_div: 1\n",
    "\n",
    "    noise_scheduler_kwargs:\n",
    "      beta_start: 0.00085\n",
    "      beta_end: 0.012\n",
    "      beta_schedule: \"linear\"\n",
    "      clip_sample: false\n",
    "      steps_offset: 1\n",
    "      ### Zero-SNR params\n",
    "      prediction_type: \"v_prediction\"\n",
    "      rescale_betas_zero_snr: True\n",
    "      timestep_spacing: \"trailing\"\n",
    "\n",
    "    sampler: DDIM\n",
    "\n"
   ]
  },
  {
   "cell_type": "code",
   "execution_count": 12,
   "id": "87354ad5-ff18-4ea7-aa9f-7902415bdd2b",
   "metadata": {
    "tags": []
   },
   "outputs": [],
   "source": [
    "save_dir = \"output\""
   ]
  },
  {
   "cell_type": "code",
   "execution_count": 13,
   "id": "0e036b71-c43b-41aa-ac73-d4906b1bb316",
   "metadata": {},
   "outputs": [
    {
     "name": "stdout",
     "output_type": "stream",
     "text": [
      "Some weights of the model checkpoint were not used when initializing UNet2DConditionModel: \n",
      " ['conv_norm_out.weight, conv_norm_out.bias, conv_out.weight, conv_out.bias']\n",
      "/home/ec2-user/anaconda3/envs/pytorch_p310/lib/python3.10/site-packages/torch/_utils.py:776: UserWarning: TypedStorage is deprecated. It will be removed in the future and UntypedStorage will be the only storage class. This should only matter to you if you are using storages directly.  To access UntypedStorage directly, use tensor.untyped_storage() instead of tensor.storage()\n",
      "  return self.fget.__get__(instance, owner)()\n",
      "pose video has 200 frames, with 30 fps\n",
      "/home/ec2-user/SageMaker/video-generation-guidance-on-sagemaker-hyperpod/inference/Moore-AnimateAnyone/src/pipelines/pipeline_pose2vid_long.py:406: FutureWarning: Accessing config attribute `in_channels` directly via 'UNet3DConditionModel' object attribute is deprecated. Please access 'in_channels' over 'UNet3DConditionModel's config object instead, e.g. 'unet.config.in_channels'.\n",
      "  num_channels_latents = self.denoising_unet.in_channels\n",
      "100%|███████████████████████████████████████████| 30/30 [06:39<00:00, 13.30s/it]\n",
      "100%|███████████████████████████████████████████| 64/64 [00:07<00:00,  8.81it/s]\n",
      "save_path: output/20240718/0807--seed_42-512x784/anyone-1_anyone-video-1_784x512_3_0807.mp4\n"
     ]
    }
   ],
   "source": [
    "!python Moore-AnimateAnyone/scripts/pose2vid.py --config infer_config.yaml -W 512 -H 784 -L 64 --save_dir $save_dir"
   ]
  },
  {
   "cell_type": "code",
   "execution_count": 14,
   "id": "c3028768-a464-4425-b0ad-e29566f1e82e",
   "metadata": {
    "tags": []
   },
   "outputs": [
    {
     "name": "stdout",
     "output_type": "stream",
     "text": [
      "\u001b[33m(Deprecated) Installing extensions with the jupyter labextension install command is now deprecated and will be removed in a future major version of JupyterLab.\n",
      "\n",
      "Users should manage prebuilt extensions with package managers like pip and conda, and extension authors are encouraged to distribute their extensions as prebuilt packages \u001b[0m\n",
      "/home/ec2-user/anaconda3/envs/pytorch_p310/lib/python3.10/site-packages/jupyterlab/debuglog.py:56: UserWarning: An error occurred.\n",
      "  warnings.warn(\"An error occurred.\")\n",
      "/home/ec2-user/anaconda3/envs/pytorch_p310/lib/python3.10/site-packages/jupyterlab/debuglog.py:57: UserWarning: ValueError: Please install Node.js and npm before continuing installation. You may be able to install Node.js from your package manager, from conda, or directly from the Node.js website (https://nodejs.org).\n",
      "  warnings.warn(msg[-1].strip())\n",
      "/home/ec2-user/anaconda3/envs/pytorch_p310/lib/python3.10/site-packages/jupyterlab/debuglog.py:58: UserWarning: See the log file for details: /tmp/jupyterlab-debug-ajochapz.log\n",
      "  warnings.warn(f\"See the log file for details: {log_path!s}\")\n"
     ]
    }
   ],
   "source": [
    "!jupyter labextension install @jupyter-widgets/jupyterlab-manager"
   ]
  },
  {
   "cell_type": "code",
   "execution_count": 15,
   "id": "5726a4e2-1dde-47e3-a387-7dac95545c1b",
   "metadata": {
    "tags": []
   },
   "outputs": [
    {
     "data": {
      "text/html": [
       "\n",
       "<video width=\"640\" height=\"480\" controls>\n",
       "  <source src=\"output/20240718/0807--seed_42-512x784/anyone-1_anyone-video-1_784x512_3_0807.mp4\" type=\"video/mp4\">\n",
       "  Your browser does not support the video tag.\n",
       "</video>\n"
      ],
      "text/plain": [
       "<IPython.core.display.HTML object>"
      ]
     },
     "execution_count": 15,
     "metadata": {},
     "output_type": "execute_result"
    }
   ],
   "source": [
    "from IPython.display import HTML\n",
    "\n",
    "video_path = \"output/20240718/0807--seed_42-512x784/anyone-1_anyone-video-1_784x512_3_0807.mp4\"\n",
    "\n",
    "video_html = f\"\"\"\n",
    "<video width=\"640\" height=\"480\" controls>\n",
    "  <source src=\"{video_path}\" type=\"video/mp4\">\n",
    "  Your browser does not support the video tag.\n",
    "</video>\n",
    "\"\"\"\n",
    "HTML(video_html)"
   ]
  },
  {
   "cell_type": "markdown",
   "id": "fcfe2a24-cd3e-40e2-8d9f-bfc1ba56b8b2",
   "metadata": {},
   "source": [
    "## The above video is generated from the pretrained weights, which is orginally trained on small sample of video data. In order to improve the quality, the fine tuning on large and better video data source is sugguested. "
   ]
  }
 ],
 "metadata": {
  "kernelspec": {
   "display_name": "conda_pytorch_p310",
   "language": "python",
   "name": "conda_pytorch_p310"
  },
  "language_info": {
   "codemirror_mode": {
    "name": "ipython",
    "version": 3
   },
   "file_extension": ".py",
   "mimetype": "text/x-python",
   "name": "python",
   "nbconvert_exporter": "python",
   "pygments_lexer": "ipython3",
   "version": "3.10.14"
  }
 },
 "nbformat": 4,
 "nbformat_minor": 5
}
